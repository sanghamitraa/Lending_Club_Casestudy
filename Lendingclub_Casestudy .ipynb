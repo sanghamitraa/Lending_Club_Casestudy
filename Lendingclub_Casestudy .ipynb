{
 "cells": [
  {
   "cell_type": "markdown",
   "id": "3ffcb984",
   "metadata": {},
   "source": [
    "## Lending Club Case Study"
   ]
  },
  {
   "cell_type": "markdown",
   "id": "c4ab3d4e",
   "metadata": {},
   "source": [
    "### Problem Statement"
   ]
  },
  {
   "cell_type": "markdown",
   "id": "a773fdbc",
   "metadata": {},
   "source": [
    "A consumer finance company which specialises in lending various types of loans to urban customers. When the company receives a loan application, the company has to make a decision for loan approval based on the applicant’s profile. "
   ]
  },
  {
   "cell_type": "markdown",
   "id": "82c9e39d",
   "metadata": {},
   "source": [
    "Two types of risks are associated with the bank’s decision:\n",
    "    \n",
    "><font color = blue>***1.If the applicant is likely to repay the loan, then not approving the\n",
    "    loan results in a loss of business to the company.***</font>\n",
    "    \n",
    "><font color = blue>***2.If the applicant is not likely to repay the loan, i.e. he/she is likely\n",
    "    to default, then approving the loan may lead to a financial loss for\n",
    "    the company.***</font>"
   ]
  },
  {
   "cell_type": "markdown",
   "id": "40c20516",
   "metadata": {},
   "source": [
    "### Business Objective\n",
    "To identify variables which are strong indicators of default and potentially use the insights in approval /\n",
    "rejection decision making."
   ]
  },
  {
   "cell_type": "markdown",
   "id": "5c9cc700",
   "metadata": {},
   "source": [
    " # Import Libraries and set required parameters"
   ]
  },
  {
   "cell_type": "code",
   "execution_count": 1,
   "id": "2918a245",
   "metadata": {},
   "outputs": [
    {
     "name": "stdout",
     "output_type": "stream",
     "text": [
      "numpy version\t: 1.21.5\n",
      "pandas version\t: 1.4.2\n",
      "seaborn version\t: 0.11.2\n"
     ]
    }
   ],
   "source": [
    "import numpy as np\n",
    "print('numpy version\\t:',np.__version__)\n",
    "import pandas as pd\n",
    "print('pandas version\\t:',pd.__version__)\n",
    "import matplotlib.pyplot as plt\n",
    "import seaborn as sns\n",
    "print('seaborn version\\t:',sns.__version__)\n",
    "import seaborn as sb\n",
    "from datetime import datetime\n",
    "\n",
    "import warnings\n",
    "warnings.filterwarnings('ignore')"
   ]
  },
  {
   "cell_type": "markdown",
   "id": "a082f077",
   "metadata": {},
   "source": [
    "# Data Sourcing"
   ]
  },
  {
   "cell_type": "code",
   "execution_count": 2,
   "id": "2dbfc44c",
   "metadata": {},
   "outputs": [
    {
     "name": "stdout",
     "output_type": "stream",
     "text": [
      "(39717, 111)\n"
     ]
    }
   ],
   "source": [
    "loan=pd.read_csv(r\"F:\\Python\\ML\\loan.csv\")\n",
    "print(loan.shape)\n"
   ]
  },
  {
   "cell_type": "code",
   "execution_count": 3,
   "id": "a3ef0e0b",
   "metadata": {},
   "outputs": [
    {
     "data": {
      "text/html": [
       "<div>\n",
       "<style scoped>\n",
       "    .dataframe tbody tr th:only-of-type {\n",
       "        vertical-align: middle;\n",
       "    }\n",
       "\n",
       "    .dataframe tbody tr th {\n",
       "        vertical-align: top;\n",
       "    }\n",
       "\n",
       "    .dataframe thead th {\n",
       "        text-align: right;\n",
       "    }\n",
       "</style>\n",
       "<table border=\"1\" class=\"dataframe\">\n",
       "  <thead>\n",
       "    <tr style=\"text-align: right;\">\n",
       "      <th></th>\n",
       "      <th>id</th>\n",
       "      <th>member_id</th>\n",
       "      <th>loan_amnt</th>\n",
       "      <th>funded_amnt</th>\n",
       "      <th>funded_amnt_inv</th>\n",
       "      <th>term</th>\n",
       "      <th>int_rate</th>\n",
       "      <th>installment</th>\n",
       "      <th>grade</th>\n",
       "      <th>sub_grade</th>\n",
       "      <th>...</th>\n",
       "      <th>num_tl_90g_dpd_24m</th>\n",
       "      <th>num_tl_op_past_12m</th>\n",
       "      <th>pct_tl_nvr_dlq</th>\n",
       "      <th>percent_bc_gt_75</th>\n",
       "      <th>pub_rec_bankruptcies</th>\n",
       "      <th>tax_liens</th>\n",
       "      <th>tot_hi_cred_lim</th>\n",
       "      <th>total_bal_ex_mort</th>\n",
       "      <th>total_bc_limit</th>\n",
       "      <th>total_il_high_credit_limit</th>\n",
       "    </tr>\n",
       "  </thead>\n",
       "  <tbody>\n",
       "    <tr>\n",
       "      <th>0</th>\n",
       "      <td>1077501</td>\n",
       "      <td>1296599</td>\n",
       "      <td>5000</td>\n",
       "      <td>5000</td>\n",
       "      <td>4975.0</td>\n",
       "      <td>36 months</td>\n",
       "      <td>10.65%</td>\n",
       "      <td>162.87</td>\n",
       "      <td>B</td>\n",
       "      <td>B2</td>\n",
       "      <td>...</td>\n",
       "      <td>NaN</td>\n",
       "      <td>NaN</td>\n",
       "      <td>NaN</td>\n",
       "      <td>NaN</td>\n",
       "      <td>0.0</td>\n",
       "      <td>0.0</td>\n",
       "      <td>NaN</td>\n",
       "      <td>NaN</td>\n",
       "      <td>NaN</td>\n",
       "      <td>NaN</td>\n",
       "    </tr>\n",
       "    <tr>\n",
       "      <th>1</th>\n",
       "      <td>1077430</td>\n",
       "      <td>1314167</td>\n",
       "      <td>2500</td>\n",
       "      <td>2500</td>\n",
       "      <td>2500.0</td>\n",
       "      <td>60 months</td>\n",
       "      <td>15.27%</td>\n",
       "      <td>59.83</td>\n",
       "      <td>C</td>\n",
       "      <td>C4</td>\n",
       "      <td>...</td>\n",
       "      <td>NaN</td>\n",
       "      <td>NaN</td>\n",
       "      <td>NaN</td>\n",
       "      <td>NaN</td>\n",
       "      <td>0.0</td>\n",
       "      <td>0.0</td>\n",
       "      <td>NaN</td>\n",
       "      <td>NaN</td>\n",
       "      <td>NaN</td>\n",
       "      <td>NaN</td>\n",
       "    </tr>\n",
       "    <tr>\n",
       "      <th>2</th>\n",
       "      <td>1077175</td>\n",
       "      <td>1313524</td>\n",
       "      <td>2400</td>\n",
       "      <td>2400</td>\n",
       "      <td>2400.0</td>\n",
       "      <td>36 months</td>\n",
       "      <td>15.96%</td>\n",
       "      <td>84.33</td>\n",
       "      <td>C</td>\n",
       "      <td>C5</td>\n",
       "      <td>...</td>\n",
       "      <td>NaN</td>\n",
       "      <td>NaN</td>\n",
       "      <td>NaN</td>\n",
       "      <td>NaN</td>\n",
       "      <td>0.0</td>\n",
       "      <td>0.0</td>\n",
       "      <td>NaN</td>\n",
       "      <td>NaN</td>\n",
       "      <td>NaN</td>\n",
       "      <td>NaN</td>\n",
       "    </tr>\n",
       "    <tr>\n",
       "      <th>3</th>\n",
       "      <td>1076863</td>\n",
       "      <td>1277178</td>\n",
       "      <td>10000</td>\n",
       "      <td>10000</td>\n",
       "      <td>10000.0</td>\n",
       "      <td>36 months</td>\n",
       "      <td>13.49%</td>\n",
       "      <td>339.31</td>\n",
       "      <td>C</td>\n",
       "      <td>C1</td>\n",
       "      <td>...</td>\n",
       "      <td>NaN</td>\n",
       "      <td>NaN</td>\n",
       "      <td>NaN</td>\n",
       "      <td>NaN</td>\n",
       "      <td>0.0</td>\n",
       "      <td>0.0</td>\n",
       "      <td>NaN</td>\n",
       "      <td>NaN</td>\n",
       "      <td>NaN</td>\n",
       "      <td>NaN</td>\n",
       "    </tr>\n",
       "    <tr>\n",
       "      <th>4</th>\n",
       "      <td>1075358</td>\n",
       "      <td>1311748</td>\n",
       "      <td>3000</td>\n",
       "      <td>3000</td>\n",
       "      <td>3000.0</td>\n",
       "      <td>60 months</td>\n",
       "      <td>12.69%</td>\n",
       "      <td>67.79</td>\n",
       "      <td>B</td>\n",
       "      <td>B5</td>\n",
       "      <td>...</td>\n",
       "      <td>NaN</td>\n",
       "      <td>NaN</td>\n",
       "      <td>NaN</td>\n",
       "      <td>NaN</td>\n",
       "      <td>0.0</td>\n",
       "      <td>0.0</td>\n",
       "      <td>NaN</td>\n",
       "      <td>NaN</td>\n",
       "      <td>NaN</td>\n",
       "      <td>NaN</td>\n",
       "    </tr>\n",
       "  </tbody>\n",
       "</table>\n",
       "<p>5 rows × 111 columns</p>\n",
       "</div>"
      ],
      "text/plain": [
       "        id  member_id  loan_amnt  funded_amnt  funded_amnt_inv        term  \\\n",
       "0  1077501    1296599       5000         5000           4975.0   36 months   \n",
       "1  1077430    1314167       2500         2500           2500.0   60 months   \n",
       "2  1077175    1313524       2400         2400           2400.0   36 months   \n",
       "3  1076863    1277178      10000        10000          10000.0   36 months   \n",
       "4  1075358    1311748       3000         3000           3000.0   60 months   \n",
       "\n",
       "  int_rate  installment grade sub_grade  ... num_tl_90g_dpd_24m  \\\n",
       "0   10.65%       162.87     B        B2  ...                NaN   \n",
       "1   15.27%        59.83     C        C4  ...                NaN   \n",
       "2   15.96%        84.33     C        C5  ...                NaN   \n",
       "3   13.49%       339.31     C        C1  ...                NaN   \n",
       "4   12.69%        67.79     B        B5  ...                NaN   \n",
       "\n",
       "  num_tl_op_past_12m pct_tl_nvr_dlq  percent_bc_gt_75 pub_rec_bankruptcies  \\\n",
       "0                NaN            NaN               NaN                  0.0   \n",
       "1                NaN            NaN               NaN                  0.0   \n",
       "2                NaN            NaN               NaN                  0.0   \n",
       "3                NaN            NaN               NaN                  0.0   \n",
       "4                NaN            NaN               NaN                  0.0   \n",
       "\n",
       "  tax_liens tot_hi_cred_lim total_bal_ex_mort total_bc_limit  \\\n",
       "0       0.0             NaN               NaN            NaN   \n",
       "1       0.0             NaN               NaN            NaN   \n",
       "2       0.0             NaN               NaN            NaN   \n",
       "3       0.0             NaN               NaN            NaN   \n",
       "4       0.0             NaN               NaN            NaN   \n",
       "\n",
       "  total_il_high_credit_limit  \n",
       "0                        NaN  \n",
       "1                        NaN  \n",
       "2                        NaN  \n",
       "3                        NaN  \n",
       "4                        NaN  \n",
       "\n",
       "[5 rows x 111 columns]"
      ]
     },
     "execution_count": 3,
     "metadata": {},
     "output_type": "execute_result"
    }
   ],
   "source": [
    "loan.head()"
   ]
  },
  {
   "cell_type": "code",
   "execution_count": 4,
   "id": "9e3b3675",
   "metadata": {},
   "outputs": [
    {
     "name": "stdout",
     "output_type": "stream",
     "text": [
      "<class 'pandas.core.frame.DataFrame'>\n",
      "RangeIndex: 39717 entries, 0 to 39716\n",
      "Columns: 111 entries, id to total_il_high_credit_limit\n",
      "dtypes: float64(74), int64(13), object(24)\n",
      "memory usage: 33.6+ MB\n"
     ]
    }
   ],
   "source": [
    "loan.info()"
   ]
  },
  {
   "cell_type": "markdown",
   "id": "d3b6d1ec",
   "metadata": {},
   "source": [
    "# Data Cleaning and Manipulation\n",
    "#removeNulls(dataframe, axis, percent) will drop the columns/rows from the dataset based on the parameter values."
   ]
  },
  {
   "cell_type": "code",
   "execution_count": 5,
   "id": "a9d1f2ae",
   "metadata": {},
   "outputs": [
    {
     "name": "stdout",
     "output_type": "stream",
     "text": [
      "Number of columns having null value more than 40% : 57\n",
      "mths_since_last_delinq             64.66\n",
      "mths_since_last_record             92.99\n",
      "next_pymnt_d                       97.13\n",
      "mths_since_last_major_derog       100.00\n",
      "annual_inc_joint                  100.00\n",
      "dti_joint                         100.00\n",
      "verification_status_joint         100.00\n",
      "tot_coll_amt                      100.00\n",
      "tot_cur_bal                       100.00\n",
      "open_acc_6m                       100.00\n",
      "open_il_6m                        100.00\n",
      "open_il_12m                       100.00\n",
      "open_il_24m                       100.00\n",
      "mths_since_rcnt_il                100.00\n",
      "total_bal_il                      100.00\n",
      "il_util                           100.00\n",
      "open_rv_12m                       100.00\n",
      "open_rv_24m                       100.00\n",
      "max_bal_bc                        100.00\n",
      "all_util                          100.00\n",
      "total_rev_hi_lim                  100.00\n",
      "inq_fi                            100.00\n",
      "total_cu_tl                       100.00\n",
      "inq_last_12m                      100.00\n",
      "acc_open_past_24mths              100.00\n",
      "avg_cur_bal                       100.00\n",
      "bc_open_to_buy                    100.00\n",
      "bc_util                           100.00\n",
      "mo_sin_old_il_acct                100.00\n",
      "mo_sin_old_rev_tl_op              100.00\n",
      "mo_sin_rcnt_rev_tl_op             100.00\n",
      "mo_sin_rcnt_tl                    100.00\n",
      "mort_acc                          100.00\n",
      "mths_since_recent_bc              100.00\n",
      "mths_since_recent_bc_dlq          100.00\n",
      "mths_since_recent_inq             100.00\n",
      "mths_since_recent_revol_delinq    100.00\n",
      "num_accts_ever_120_pd             100.00\n",
      "num_actv_bc_tl                    100.00\n",
      "num_actv_rev_tl                   100.00\n",
      "num_bc_sats                       100.00\n",
      "num_bc_tl                         100.00\n",
      "num_il_tl                         100.00\n",
      "num_op_rev_tl                     100.00\n",
      "num_rev_accts                     100.00\n",
      "num_rev_tl_bal_gt_0               100.00\n",
      "num_sats                          100.00\n",
      "num_tl_120dpd_2m                  100.00\n",
      "num_tl_30dpd                      100.00\n",
      "num_tl_90g_dpd_24m                100.00\n",
      "num_tl_op_past_12m                100.00\n",
      "pct_tl_nvr_dlq                    100.00\n",
      "percent_bc_gt_75                  100.00\n",
      "tot_hi_cred_lim                   100.00\n",
      "total_bal_ex_mort                 100.00\n",
      "total_bc_limit                    100.00\n",
      "total_il_high_credit_limit        100.00\n",
      "dtype: float64\n"
     ]
    }
   ],
   "source": [
    "#Number of columns having null value more than 40% \n",
    "def missing_percentage(df):\n",
    "    output = round(df.isnull().sum()/len(df.index)*100,2)\n",
    "    return output\n",
    "\n",
    "\n",
    "NA_col = missing_percentage(loan)\n",
    "NA_col_40 = NA_col[NA_col>40]\n",
    "\n",
    "print(\"Number of columns having null value more than 40% :\", len(NA_col_40.index))\n",
    "print(NA_col_40)\n"
   ]
  },
  {
   "cell_type": "code",
   "execution_count": 6,
   "id": "9df25276",
   "metadata": {},
   "outputs": [
    {
     "data": {
      "text/plain": [
       "(39717, 54)"
      ]
     },
     "execution_count": 6,
     "metadata": {},
     "output_type": "execute_result"
    }
   ],
   "source": [
    "#1. Remove columns where NA values are more than or equal to 40\n",
    "# Since the columns having more missing values will not impact our analysis.\n",
    "loan = loan.drop(NA_col_40.index, axis =1)\n",
    "loan.shape"
   ]
  },
  {
   "cell_type": "code",
   "execution_count": 7,
   "id": "fa9f1dc4",
   "metadata": {},
   "outputs": [],
   "source": [
    "#Remove columns where number of unique value is only 1.\n",
    "#By removing all columns where number of unique value is only 1 because that will not impact our analysis.\n",
    "unique = loan.nunique()\n",
    "unique = unique[unique.values == 1]"
   ]
  },
  {
   "cell_type": "code",
   "execution_count": 8,
   "id": "20c98e2d",
   "metadata": {},
   "outputs": [
    {
     "name": "stdout",
     "output_type": "stream",
     "text": [
      "(39717, 45)\n"
     ]
    },
    {
     "data": {
      "text/html": [
       "<div>\n",
       "<style scoped>\n",
       "    .dataframe tbody tr th:only-of-type {\n",
       "        vertical-align: middle;\n",
       "    }\n",
       "\n",
       "    .dataframe tbody tr th {\n",
       "        vertical-align: top;\n",
       "    }\n",
       "\n",
       "    .dataframe thead th {\n",
       "        text-align: right;\n",
       "    }\n",
       "</style>\n",
       "<table border=\"1\" class=\"dataframe\">\n",
       "  <thead>\n",
       "    <tr style=\"text-align: right;\">\n",
       "      <th></th>\n",
       "      <th>id</th>\n",
       "      <th>member_id</th>\n",
       "      <th>loan_amnt</th>\n",
       "      <th>funded_amnt</th>\n",
       "      <th>funded_amnt_inv</th>\n",
       "      <th>term</th>\n",
       "      <th>int_rate</th>\n",
       "      <th>installment</th>\n",
       "      <th>grade</th>\n",
       "      <th>sub_grade</th>\n",
       "      <th>...</th>\n",
       "      <th>total_pymnt_inv</th>\n",
       "      <th>total_rec_prncp</th>\n",
       "      <th>total_rec_int</th>\n",
       "      <th>total_rec_late_fee</th>\n",
       "      <th>recoveries</th>\n",
       "      <th>collection_recovery_fee</th>\n",
       "      <th>last_pymnt_d</th>\n",
       "      <th>last_pymnt_amnt</th>\n",
       "      <th>last_credit_pull_d</th>\n",
       "      <th>pub_rec_bankruptcies</th>\n",
       "    </tr>\n",
       "  </thead>\n",
       "  <tbody>\n",
       "    <tr>\n",
       "      <th>0</th>\n",
       "      <td>1077501</td>\n",
       "      <td>1296599</td>\n",
       "      <td>5000</td>\n",
       "      <td>5000</td>\n",
       "      <td>4975.0</td>\n",
       "      <td>36 months</td>\n",
       "      <td>10.65%</td>\n",
       "      <td>162.87</td>\n",
       "      <td>B</td>\n",
       "      <td>B2</td>\n",
       "      <td>...</td>\n",
       "      <td>5833.84</td>\n",
       "      <td>5000.00</td>\n",
       "      <td>863.16</td>\n",
       "      <td>0.00</td>\n",
       "      <td>0.00</td>\n",
       "      <td>0.00</td>\n",
       "      <td>Jan-15</td>\n",
       "      <td>171.62</td>\n",
       "      <td>May-16</td>\n",
       "      <td>0.0</td>\n",
       "    </tr>\n",
       "    <tr>\n",
       "      <th>1</th>\n",
       "      <td>1077430</td>\n",
       "      <td>1314167</td>\n",
       "      <td>2500</td>\n",
       "      <td>2500</td>\n",
       "      <td>2500.0</td>\n",
       "      <td>60 months</td>\n",
       "      <td>15.27%</td>\n",
       "      <td>59.83</td>\n",
       "      <td>C</td>\n",
       "      <td>C4</td>\n",
       "      <td>...</td>\n",
       "      <td>1008.71</td>\n",
       "      <td>456.46</td>\n",
       "      <td>435.17</td>\n",
       "      <td>0.00</td>\n",
       "      <td>117.08</td>\n",
       "      <td>1.11</td>\n",
       "      <td>Apr-13</td>\n",
       "      <td>119.66</td>\n",
       "      <td>Sep-13</td>\n",
       "      <td>0.0</td>\n",
       "    </tr>\n",
       "    <tr>\n",
       "      <th>2</th>\n",
       "      <td>1077175</td>\n",
       "      <td>1313524</td>\n",
       "      <td>2400</td>\n",
       "      <td>2400</td>\n",
       "      <td>2400.0</td>\n",
       "      <td>36 months</td>\n",
       "      <td>15.96%</td>\n",
       "      <td>84.33</td>\n",
       "      <td>C</td>\n",
       "      <td>C5</td>\n",
       "      <td>...</td>\n",
       "      <td>3005.67</td>\n",
       "      <td>2400.00</td>\n",
       "      <td>605.67</td>\n",
       "      <td>0.00</td>\n",
       "      <td>0.00</td>\n",
       "      <td>0.00</td>\n",
       "      <td>Jun-14</td>\n",
       "      <td>649.91</td>\n",
       "      <td>May-16</td>\n",
       "      <td>0.0</td>\n",
       "    </tr>\n",
       "    <tr>\n",
       "      <th>3</th>\n",
       "      <td>1076863</td>\n",
       "      <td>1277178</td>\n",
       "      <td>10000</td>\n",
       "      <td>10000</td>\n",
       "      <td>10000.0</td>\n",
       "      <td>36 months</td>\n",
       "      <td>13.49%</td>\n",
       "      <td>339.31</td>\n",
       "      <td>C</td>\n",
       "      <td>C1</td>\n",
       "      <td>...</td>\n",
       "      <td>12231.89</td>\n",
       "      <td>10000.00</td>\n",
       "      <td>2214.92</td>\n",
       "      <td>16.97</td>\n",
       "      <td>0.00</td>\n",
       "      <td>0.00</td>\n",
       "      <td>Jan-15</td>\n",
       "      <td>357.48</td>\n",
       "      <td>Apr-16</td>\n",
       "      <td>0.0</td>\n",
       "    </tr>\n",
       "    <tr>\n",
       "      <th>4</th>\n",
       "      <td>1075358</td>\n",
       "      <td>1311748</td>\n",
       "      <td>3000</td>\n",
       "      <td>3000</td>\n",
       "      <td>3000.0</td>\n",
       "      <td>60 months</td>\n",
       "      <td>12.69%</td>\n",
       "      <td>67.79</td>\n",
       "      <td>B</td>\n",
       "      <td>B5</td>\n",
       "      <td>...</td>\n",
       "      <td>3513.33</td>\n",
       "      <td>2475.94</td>\n",
       "      <td>1037.39</td>\n",
       "      <td>0.00</td>\n",
       "      <td>0.00</td>\n",
       "      <td>0.00</td>\n",
       "      <td>May-16</td>\n",
       "      <td>67.79</td>\n",
       "      <td>May-16</td>\n",
       "      <td>0.0</td>\n",
       "    </tr>\n",
       "  </tbody>\n",
       "</table>\n",
       "<p>5 rows × 45 columns</p>\n",
       "</div>"
      ],
      "text/plain": [
       "        id  member_id  loan_amnt  funded_amnt  funded_amnt_inv        term  \\\n",
       "0  1077501    1296599       5000         5000           4975.0   36 months   \n",
       "1  1077430    1314167       2500         2500           2500.0   60 months   \n",
       "2  1077175    1313524       2400         2400           2400.0   36 months   \n",
       "3  1076863    1277178      10000        10000          10000.0   36 months   \n",
       "4  1075358    1311748       3000         3000           3000.0   60 months   \n",
       "\n",
       "  int_rate  installment grade sub_grade  ... total_pymnt_inv total_rec_prncp  \\\n",
       "0   10.65%       162.87     B        B2  ...         5833.84         5000.00   \n",
       "1   15.27%        59.83     C        C4  ...         1008.71          456.46   \n",
       "2   15.96%        84.33     C        C5  ...         3005.67         2400.00   \n",
       "3   13.49%       339.31     C        C1  ...        12231.89        10000.00   \n",
       "4   12.69%        67.79     B        B5  ...         3513.33         2475.94   \n",
       "\n",
       "  total_rec_int  total_rec_late_fee recoveries collection_recovery_fee  \\\n",
       "0        863.16                0.00       0.00                    0.00   \n",
       "1        435.17                0.00     117.08                    1.11   \n",
       "2        605.67                0.00       0.00                    0.00   \n",
       "3       2214.92               16.97       0.00                    0.00   \n",
       "4       1037.39                0.00       0.00                    0.00   \n",
       "\n",
       "  last_pymnt_d last_pymnt_amnt last_credit_pull_d pub_rec_bankruptcies  \n",
       "0       Jan-15          171.62             May-16                  0.0  \n",
       "1       Apr-13          119.66             Sep-13                  0.0  \n",
       "2       Jun-14          649.91             May-16                  0.0  \n",
       "3       Jan-15          357.48             Apr-16                  0.0  \n",
       "4       May-16           67.79             May-16                  0.0  \n",
       "\n",
       "[5 rows x 45 columns]"
      ]
     },
     "execution_count": 8,
     "metadata": {},
     "output_type": "execute_result"
    }
   ],
   "source": [
    "loan.drop(labels = list(unique.index), axis =1, inplace=True)\n",
    "print(loan.shape)\n",
    "\n",
    "loan.head()"
   ]
  },
  {
   "cell_type": "code",
   "execution_count": 9,
   "id": "f4d41433",
   "metadata": {},
   "outputs": [
    {
     "data": {
      "text/plain": [
       "(39717, 41)"
      ]
     },
     "execution_count": 9,
     "metadata": {},
     "output_type": "execute_result"
    }
   ],
   "source": [
    "#Removing of other columns:\n",
    "   \n",
    "#Columns which will not add any useful information for our analysis we should remove them\n",
    "\n",
    "loan.drop(['member_id', 'id','zip_code','url'], axis=1, inplace=True)\n",
    "loan.shape"
   ]
  },
  {
   "cell_type": "code",
   "execution_count": 10,
   "id": "e6619552",
   "metadata": {},
   "outputs": [
    {
     "data": {
      "text/html": [
       "<div>\n",
       "<style scoped>\n",
       "    .dataframe tbody tr th:only-of-type {\n",
       "        vertical-align: middle;\n",
       "    }\n",
       "\n",
       "    .dataframe tbody tr th {\n",
       "        vertical-align: top;\n",
       "    }\n",
       "\n",
       "    .dataframe thead th {\n",
       "        text-align: right;\n",
       "    }\n",
       "</style>\n",
       "<table border=\"1\" class=\"dataframe\">\n",
       "  <thead>\n",
       "    <tr style=\"text-align: right;\">\n",
       "      <th></th>\n",
       "      <th>loan_amnt</th>\n",
       "      <th>funded_amnt</th>\n",
       "      <th>funded_amnt_inv</th>\n",
       "      <th>term</th>\n",
       "      <th>int_rate</th>\n",
       "      <th>installment</th>\n",
       "      <th>grade</th>\n",
       "      <th>sub_grade</th>\n",
       "      <th>emp_title</th>\n",
       "      <th>emp_length</th>\n",
       "      <th>...</th>\n",
       "      <th>total_pymnt_inv</th>\n",
       "      <th>total_rec_prncp</th>\n",
       "      <th>total_rec_int</th>\n",
       "      <th>total_rec_late_fee</th>\n",
       "      <th>recoveries</th>\n",
       "      <th>collection_recovery_fee</th>\n",
       "      <th>last_pymnt_d</th>\n",
       "      <th>last_pymnt_amnt</th>\n",
       "      <th>last_credit_pull_d</th>\n",
       "      <th>pub_rec_bankruptcies</th>\n",
       "    </tr>\n",
       "  </thead>\n",
       "  <tbody>\n",
       "  </tbody>\n",
       "</table>\n",
       "<p>0 rows × 41 columns</p>\n",
       "</div>"
      ],
      "text/plain": [
       "Empty DataFrame\n",
       "Columns: [loan_amnt, funded_amnt, funded_amnt_inv, term, int_rate, installment, grade, sub_grade, emp_title, emp_length, home_ownership, annual_inc, verification_status, issue_d, loan_status, desc, purpose, title, addr_state, dti, delinq_2yrs, earliest_cr_line, inq_last_6mths, open_acc, pub_rec, revol_bal, revol_util, total_acc, out_prncp, out_prncp_inv, total_pymnt, total_pymnt_inv, total_rec_prncp, total_rec_int, total_rec_late_fee, recoveries, collection_recovery_fee, last_pymnt_d, last_pymnt_amnt, last_credit_pull_d, pub_rec_bankruptcies]\n",
       "Index: []\n",
       "\n",
       "[0 rows x 41 columns]"
      ]
     },
     "execution_count": 10,
     "metadata": {},
     "output_type": "execute_result"
    }
   ],
   "source": [
    "# Check if there are any duplicate values in the dataset\n",
    "loan[loan.duplicated(keep=False)]"
   ]
  },
  {
   "cell_type": "markdown",
   "id": "2d9196f0",
   "metadata": {},
   "source": [
    "The dataset does not contain any duplicate rows."
   ]
  },
  {
   "cell_type": "code",
   "execution_count": 11,
   "id": "29a1aca8",
   "metadata": {},
   "outputs": [
    {
     "data": {
      "text/plain": [
       "(39717, 40)"
      ]
     },
     "execution_count": 11,
     "metadata": {},
     "output_type": "execute_result"
    }
   ],
   "source": [
    "#Dropping of sub_grade column as grade is present.\n",
    "loan.drop(['sub_grade'], axis=1, inplace=True)\n",
    "loan.shape"
   ]
  },
  {
   "cell_type": "code",
   "execution_count": 12,
   "id": "6f4f90fd",
   "metadata": {},
   "outputs": [
    {
     "data": {
      "text/plain": [
       "(39717, 39)"
      ]
     },
     "execution_count": 12,
     "metadata": {},
     "output_type": "execute_result"
    }
   ],
   "source": [
    "#Dropping of'desc'column as contains the comments of the applicant while applying for the loan.It will not impact our analysis.\n",
    "loan.drop(['desc'], axis=1, inplace=True)\n",
    "loan.shape"
   ]
  },
  {
   "cell_type": "markdown",
   "id": "9578e1d2",
   "metadata": {},
   "source": [
    "The customer behaviour variables(those which are generated after the loan is approved such as delinquent 2 years, revolving balance, next payment date etc.) are not available at the time of loan application, and thus they cannot be used as predictors for credit approval.\n",
    "\n",
    "\n",
    "\n"
   ]
  },
  {
   "cell_type": "code",
   "execution_count": 13,
   "id": "8bf7f0a0",
   "metadata": {},
   "outputs": [
    {
     "data": {
      "text/plain": [
       "['delinq_2yrs',\n",
       " 'earliest_cr_line',\n",
       " 'inq_last_6mths',\n",
       " 'open_acc',\n",
       " 'pub_rec',\n",
       " 'revol_bal',\n",
       " 'revol_util',\n",
       " 'total_acc',\n",
       " 'out_prncp',\n",
       " 'out_prncp_inv',\n",
       " 'total_pymnt',\n",
       " 'total_pymnt_inv',\n",
       " 'total_rec_prncp',\n",
       " 'total_rec_int',\n",
       " 'total_rec_late_fee',\n",
       " 'recoveries',\n",
       " 'collection_recovery_fee',\n",
       " 'last_pymnt_d',\n",
       " 'last_pymnt_amnt',\n",
       " 'last_credit_pull_d']"
      ]
     },
     "execution_count": 13,
     "metadata": {},
     "output_type": "execute_result"
    }
   ],
   "source": [
    "behaviour_var =  [\n",
    "  'delinq_2yrs', 'earliest_cr_line', 'inq_last_6mths', 'open_acc', 'pub_rec', 'revol_bal', 'revol_util', 'total_acc', 'out_prncp', 'out_prncp_inv', 'total_pymnt', 'total_pymnt_inv', 'total_rec_prncp', 'total_rec_int', 'total_rec_late_fee', 'recoveries', 'collection_recovery_fee', 'last_pymnt_d', 'last_pymnt_amnt', 'last_credit_pull_d']\n",
    "behaviour_var"
   ]
  },
  {
   "cell_type": "code",
   "execution_count": 14,
   "id": "70285233",
   "metadata": {},
   "outputs": [
    {
     "data": {
      "text/html": [
       "<div>\n",
       "<style scoped>\n",
       "    .dataframe tbody tr th:only-of-type {\n",
       "        vertical-align: middle;\n",
       "    }\n",
       "\n",
       "    .dataframe tbody tr th {\n",
       "        vertical-align: top;\n",
       "    }\n",
       "\n",
       "    .dataframe thead th {\n",
       "        text-align: right;\n",
       "    }\n",
       "</style>\n",
       "<table border=\"1\" class=\"dataframe\">\n",
       "  <thead>\n",
       "    <tr style=\"text-align: right;\">\n",
       "      <th></th>\n",
       "      <th>loan_amnt</th>\n",
       "      <th>funded_amnt</th>\n",
       "      <th>funded_amnt_inv</th>\n",
       "      <th>term</th>\n",
       "      <th>int_rate</th>\n",
       "      <th>installment</th>\n",
       "      <th>grade</th>\n",
       "      <th>emp_title</th>\n",
       "      <th>emp_length</th>\n",
       "      <th>home_ownership</th>\n",
       "      <th>annual_inc</th>\n",
       "      <th>verification_status</th>\n",
       "      <th>issue_d</th>\n",
       "      <th>loan_status</th>\n",
       "      <th>purpose</th>\n",
       "      <th>title</th>\n",
       "      <th>addr_state</th>\n",
       "      <th>dti</th>\n",
       "      <th>pub_rec_bankruptcies</th>\n",
       "    </tr>\n",
       "  </thead>\n",
       "  <tbody>\n",
       "    <tr>\n",
       "      <th>0</th>\n",
       "      <td>5000</td>\n",
       "      <td>5000</td>\n",
       "      <td>4975.0</td>\n",
       "      <td>36 months</td>\n",
       "      <td>10.65%</td>\n",
       "      <td>162.87</td>\n",
       "      <td>B</td>\n",
       "      <td>NaN</td>\n",
       "      <td>10+ years</td>\n",
       "      <td>RENT</td>\n",
       "      <td>24000.0</td>\n",
       "      <td>Verified</td>\n",
       "      <td>Dec-11</td>\n",
       "      <td>Fully Paid</td>\n",
       "      <td>credit_card</td>\n",
       "      <td>Computer</td>\n",
       "      <td>AZ</td>\n",
       "      <td>27.65</td>\n",
       "      <td>0.0</td>\n",
       "    </tr>\n",
       "    <tr>\n",
       "      <th>1</th>\n",
       "      <td>2500</td>\n",
       "      <td>2500</td>\n",
       "      <td>2500.0</td>\n",
       "      <td>60 months</td>\n",
       "      <td>15.27%</td>\n",
       "      <td>59.83</td>\n",
       "      <td>C</td>\n",
       "      <td>Ryder</td>\n",
       "      <td>&lt; 1 year</td>\n",
       "      <td>RENT</td>\n",
       "      <td>30000.0</td>\n",
       "      <td>Source Verified</td>\n",
       "      <td>Dec-11</td>\n",
       "      <td>Charged Off</td>\n",
       "      <td>car</td>\n",
       "      <td>bike</td>\n",
       "      <td>GA</td>\n",
       "      <td>1.00</td>\n",
       "      <td>0.0</td>\n",
       "    </tr>\n",
       "    <tr>\n",
       "      <th>2</th>\n",
       "      <td>2400</td>\n",
       "      <td>2400</td>\n",
       "      <td>2400.0</td>\n",
       "      <td>36 months</td>\n",
       "      <td>15.96%</td>\n",
       "      <td>84.33</td>\n",
       "      <td>C</td>\n",
       "      <td>NaN</td>\n",
       "      <td>10+ years</td>\n",
       "      <td>RENT</td>\n",
       "      <td>12252.0</td>\n",
       "      <td>Not Verified</td>\n",
       "      <td>Dec-11</td>\n",
       "      <td>Fully Paid</td>\n",
       "      <td>small_business</td>\n",
       "      <td>real estate business</td>\n",
       "      <td>IL</td>\n",
       "      <td>8.72</td>\n",
       "      <td>0.0</td>\n",
       "    </tr>\n",
       "    <tr>\n",
       "      <th>3</th>\n",
       "      <td>10000</td>\n",
       "      <td>10000</td>\n",
       "      <td>10000.0</td>\n",
       "      <td>36 months</td>\n",
       "      <td>13.49%</td>\n",
       "      <td>339.31</td>\n",
       "      <td>C</td>\n",
       "      <td>AIR RESOURCES BOARD</td>\n",
       "      <td>10+ years</td>\n",
       "      <td>RENT</td>\n",
       "      <td>49200.0</td>\n",
       "      <td>Source Verified</td>\n",
       "      <td>Dec-11</td>\n",
       "      <td>Fully Paid</td>\n",
       "      <td>other</td>\n",
       "      <td>personel</td>\n",
       "      <td>CA</td>\n",
       "      <td>20.00</td>\n",
       "      <td>0.0</td>\n",
       "    </tr>\n",
       "    <tr>\n",
       "      <th>4</th>\n",
       "      <td>3000</td>\n",
       "      <td>3000</td>\n",
       "      <td>3000.0</td>\n",
       "      <td>60 months</td>\n",
       "      <td>12.69%</td>\n",
       "      <td>67.79</td>\n",
       "      <td>B</td>\n",
       "      <td>University Medical Group</td>\n",
       "      <td>1 year</td>\n",
       "      <td>RENT</td>\n",
       "      <td>80000.0</td>\n",
       "      <td>Source Verified</td>\n",
       "      <td>Dec-11</td>\n",
       "      <td>Current</td>\n",
       "      <td>other</td>\n",
       "      <td>Personal</td>\n",
       "      <td>OR</td>\n",
       "      <td>17.94</td>\n",
       "      <td>0.0</td>\n",
       "    </tr>\n",
       "  </tbody>\n",
       "</table>\n",
       "</div>"
      ],
      "text/plain": [
       "   loan_amnt  funded_amnt  funded_amnt_inv        term int_rate  installment  \\\n",
       "0       5000         5000           4975.0   36 months   10.65%       162.87   \n",
       "1       2500         2500           2500.0   60 months   15.27%        59.83   \n",
       "2       2400         2400           2400.0   36 months   15.96%        84.33   \n",
       "3      10000        10000          10000.0   36 months   13.49%       339.31   \n",
       "4       3000         3000           3000.0   60 months   12.69%        67.79   \n",
       "\n",
       "  grade                 emp_title emp_length home_ownership  annual_inc  \\\n",
       "0     B                       NaN  10+ years           RENT     24000.0   \n",
       "1     C                     Ryder   < 1 year           RENT     30000.0   \n",
       "2     C                       NaN  10+ years           RENT     12252.0   \n",
       "3     C       AIR RESOURCES BOARD  10+ years           RENT     49200.0   \n",
       "4     B  University Medical Group     1 year           RENT     80000.0   \n",
       "\n",
       "  verification_status issue_d  loan_status         purpose  \\\n",
       "0            Verified  Dec-11   Fully Paid     credit_card   \n",
       "1     Source Verified  Dec-11  Charged Off             car   \n",
       "2        Not Verified  Dec-11   Fully Paid  small_business   \n",
       "3     Source Verified  Dec-11   Fully Paid           other   \n",
       "4     Source Verified  Dec-11      Current           other   \n",
       "\n",
       "                  title addr_state    dti  pub_rec_bankruptcies  \n",
       "0              Computer         AZ  27.65                   0.0  \n",
       "1                  bike         GA   1.00                   0.0  \n",
       "2  real estate business         IL   8.72                   0.0  \n",
       "3              personel         CA  20.00                   0.0  \n",
       "4              Personal         OR  17.94                   0.0  "
      ]
     },
     "execution_count": 14,
     "metadata": {},
     "output_type": "execute_result"
    }
   ],
   "source": [
    "# let's now remove the behaviour variables from analysis\n",
    "loan = loan.drop(behaviour_var, axis=1)\n",
    "loan.head()"
   ]
  },
  {
   "cell_type": "code",
   "execution_count": 15,
   "id": "f62fb550",
   "metadata": {},
   "outputs": [
    {
     "data": {
      "text/plain": [
       "Index(['loan_amnt', 'funded_amnt', 'funded_amnt_inv', 'term', 'int_rate',\n",
       "       'installment', 'grade', 'emp_title', 'emp_length', 'home_ownership',\n",
       "       'annual_inc', 'verification_status', 'issue_d', 'loan_status',\n",
       "       'purpose', 'title', 'addr_state', 'dti', 'pub_rec_bankruptcies'],\n",
       "      dtype='object')"
      ]
     },
     "execution_count": 15,
     "metadata": {},
     "output_type": "execute_result"
    }
   ],
   "source": [
    "loan.columns"
   ]
  },
  {
   "cell_type": "code",
   "execution_count": 16,
   "id": "72de7573",
   "metadata": {},
   "outputs": [
    {
     "data": {
      "text/plain": [
       "0                         Computer\n",
       "1                             bike\n",
       "2             real estate business\n",
       "3                         personel\n",
       "4                         Personal\n",
       "                   ...            \n",
       "39712             Home Improvement\n",
       "39713    Retiring credit card debt\n",
       "39714       MBA Loan Consolidation\n",
       "39715                     JAL Loan\n",
       "39716           Consolidation Loan\n",
       "Name: title, Length: 39717, dtype: object"
      ]
     },
     "execution_count": 16,
     "metadata": {},
     "output_type": "execute_result"
    }
   ],
   "source": [
    "loan['title']"
   ]
  },
  {
   "cell_type": "code",
   "execution_count": 17,
   "id": "ca567fcd",
   "metadata": {},
   "outputs": [
    {
     "data": {
      "text/plain": [
       "0               credit_card\n",
       "1                       car\n",
       "2            small_business\n",
       "3                     other\n",
       "4                     other\n",
       "                ...        \n",
       "39712      home_improvement\n",
       "39713           credit_card\n",
       "39714    debt_consolidation\n",
       "39715                 other\n",
       "39716    debt_consolidation\n",
       "Name: purpose, Length: 39717, dtype: object"
      ]
     },
     "execution_count": 17,
     "metadata": {},
     "output_type": "execute_result"
    }
   ],
   "source": [
    "loan['purpose']"
   ]
  },
  {
   "cell_type": "code",
   "execution_count": 18,
   "id": "7a36d003",
   "metadata": {},
   "outputs": [
    {
     "data": {
      "text/plain": [
       "(39717, 18)"
      ]
     },
     "execution_count": 18,
     "metadata": {},
     "output_type": "execute_result"
    }
   ],
   "source": [
    "#The variable 'title' is derived from the variable 'purpose'\n",
    "#We can keep either of them.\n",
    "# let's now remove the title variables from our analysis\n",
    "loan.drop(['title'], axis=1, inplace=True)\n",
    "loan.shape"
   ]
  },
  {
   "cell_type": "code",
   "execution_count": 19,
   "id": "963fe631",
   "metadata": {},
   "outputs": [
    {
     "data": {
      "text/plain": [
       "Fully Paid     32950\n",
       "Charged Off     5627\n",
       "Current         1140\n",
       "Name: loan_status, dtype: int64"
      ]
     },
     "execution_count": 19,
     "metadata": {},
     "output_type": "execute_result"
    }
   ],
   "source": [
    "# summarising the values\n",
    "loan['loan_status'].value_counts()"
   ]
  },
  {
   "cell_type": "markdown",
   "id": "22398830",
   "metadata": {},
   "source": [
    "We can see that fully paid comprises most of the loans. The ones marked 'current' are neither fully paid not defaulted, \n",
    "so let's get rid of the current loans. Also, let's tag the other two values as 0 or 1."
   ]
  },
  {
   "cell_type": "code",
   "execution_count": 20,
   "id": "b1ed50cf",
   "metadata": {},
   "outputs": [
    {
     "data": {
      "text/plain": [
       "0    32950\n",
       "1     5627\n",
       "Name: loan_status, dtype: int64"
      ]
     },
     "execution_count": 20,
     "metadata": {},
     "output_type": "execute_result"
    }
   ],
   "source": [
    "# filtering only fully paid and charged-off\n",
    "loan = loan[loan['loan_status'] != 'Current']\n",
    "loan['loan_status'] = loan['loan_status'].apply(lambda x: 0 if x=='Fully Paid' else 1)\n",
    "\n",
    "# summarising the values\n",
    "loan['loan_status'].value_counts()"
   ]
  },
  {
   "cell_type": "code",
   "execution_count": 21,
   "id": "bb7cdc22",
   "metadata": {},
   "outputs": [],
   "source": [
    "#Transform all continuos variables to numeric\n",
    "\n",
    "numeric_columns = ['loan_amnt','funded_amnt','funded_amnt_inv','installment','annual_inc','dti']\n",
    "\n",
    "loan[numeric_columns] = loan[numeric_columns].apply(pd.to_numeric)"
   ]
  },
  {
   "cell_type": "markdown",
   "id": "ebdf633c",
   "metadata": {},
   "source": [
    "# Derived Metrics"
   ]
  },
  {
   "cell_type": "code",
   "execution_count": 22,
   "id": "fb2ee390",
   "metadata": {},
   "outputs": [],
   "source": [
    "#Loan amount to Annual Income ratio\n",
    "loan['loan_inc_ratio']= loan['loan_amnt']/loan['annual_inc']"
   ]
  },
  {
   "cell_type": "code",
   "execution_count": 23,
   "id": "4d24ed0f",
   "metadata": {},
   "outputs": [
    {
     "data": {
      "text/html": [
       "<div>\n",
       "<style scoped>\n",
       "    .dataframe tbody tr th:only-of-type {\n",
       "        vertical-align: middle;\n",
       "    }\n",
       "\n",
       "    .dataframe tbody tr th {\n",
       "        vertical-align: top;\n",
       "    }\n",
       "\n",
       "    .dataframe thead th {\n",
       "        text-align: right;\n",
       "    }\n",
       "</style>\n",
       "<table border=\"1\" class=\"dataframe\">\n",
       "  <thead>\n",
       "    <tr style=\"text-align: right;\">\n",
       "      <th></th>\n",
       "      <th>loan_amnt</th>\n",
       "      <th>funded_amnt</th>\n",
       "      <th>funded_amnt_inv</th>\n",
       "      <th>term</th>\n",
       "      <th>int_rate</th>\n",
       "      <th>installment</th>\n",
       "      <th>grade</th>\n",
       "      <th>emp_title</th>\n",
       "      <th>emp_length</th>\n",
       "      <th>home_ownership</th>\n",
       "      <th>annual_inc</th>\n",
       "      <th>verification_status</th>\n",
       "      <th>issue_d</th>\n",
       "      <th>loan_status</th>\n",
       "      <th>purpose</th>\n",
       "      <th>addr_state</th>\n",
       "      <th>dti</th>\n",
       "      <th>pub_rec_bankruptcies</th>\n",
       "      <th>loan_inc_ratio</th>\n",
       "    </tr>\n",
       "  </thead>\n",
       "  <tbody>\n",
       "    <tr>\n",
       "      <th>0</th>\n",
       "      <td>5000</td>\n",
       "      <td>5000</td>\n",
       "      <td>4975.0</td>\n",
       "      <td>36 months</td>\n",
       "      <td>10.65%</td>\n",
       "      <td>162.87</td>\n",
       "      <td>B</td>\n",
       "      <td>NaN</td>\n",
       "      <td>10+ years</td>\n",
       "      <td>RENT</td>\n",
       "      <td>24000.0</td>\n",
       "      <td>Verified</td>\n",
       "      <td>Dec-11</td>\n",
       "      <td>0</td>\n",
       "      <td>credit_card</td>\n",
       "      <td>AZ</td>\n",
       "      <td>27.65</td>\n",
       "      <td>0.0</td>\n",
       "      <td>0.208333</td>\n",
       "    </tr>\n",
       "    <tr>\n",
       "      <th>1</th>\n",
       "      <td>2500</td>\n",
       "      <td>2500</td>\n",
       "      <td>2500.0</td>\n",
       "      <td>60 months</td>\n",
       "      <td>15.27%</td>\n",
       "      <td>59.83</td>\n",
       "      <td>C</td>\n",
       "      <td>Ryder</td>\n",
       "      <td>&lt; 1 year</td>\n",
       "      <td>RENT</td>\n",
       "      <td>30000.0</td>\n",
       "      <td>Source Verified</td>\n",
       "      <td>Dec-11</td>\n",
       "      <td>1</td>\n",
       "      <td>car</td>\n",
       "      <td>GA</td>\n",
       "      <td>1.00</td>\n",
       "      <td>0.0</td>\n",
       "      <td>0.083333</td>\n",
       "    </tr>\n",
       "    <tr>\n",
       "      <th>2</th>\n",
       "      <td>2400</td>\n",
       "      <td>2400</td>\n",
       "      <td>2400.0</td>\n",
       "      <td>36 months</td>\n",
       "      <td>15.96%</td>\n",
       "      <td>84.33</td>\n",
       "      <td>C</td>\n",
       "      <td>NaN</td>\n",
       "      <td>10+ years</td>\n",
       "      <td>RENT</td>\n",
       "      <td>12252.0</td>\n",
       "      <td>Not Verified</td>\n",
       "      <td>Dec-11</td>\n",
       "      <td>0</td>\n",
       "      <td>small_business</td>\n",
       "      <td>IL</td>\n",
       "      <td>8.72</td>\n",
       "      <td>0.0</td>\n",
       "      <td>0.195886</td>\n",
       "    </tr>\n",
       "    <tr>\n",
       "      <th>3</th>\n",
       "      <td>10000</td>\n",
       "      <td>10000</td>\n",
       "      <td>10000.0</td>\n",
       "      <td>36 months</td>\n",
       "      <td>13.49%</td>\n",
       "      <td>339.31</td>\n",
       "      <td>C</td>\n",
       "      <td>AIR RESOURCES BOARD</td>\n",
       "      <td>10+ years</td>\n",
       "      <td>RENT</td>\n",
       "      <td>49200.0</td>\n",
       "      <td>Source Verified</td>\n",
       "      <td>Dec-11</td>\n",
       "      <td>0</td>\n",
       "      <td>other</td>\n",
       "      <td>CA</td>\n",
       "      <td>20.00</td>\n",
       "      <td>0.0</td>\n",
       "      <td>0.203252</td>\n",
       "    </tr>\n",
       "    <tr>\n",
       "      <th>5</th>\n",
       "      <td>5000</td>\n",
       "      <td>5000</td>\n",
       "      <td>5000.0</td>\n",
       "      <td>36 months</td>\n",
       "      <td>7.90%</td>\n",
       "      <td>156.46</td>\n",
       "      <td>A</td>\n",
       "      <td>Veolia Transportaton</td>\n",
       "      <td>3 years</td>\n",
       "      <td>RENT</td>\n",
       "      <td>36000.0</td>\n",
       "      <td>Source Verified</td>\n",
       "      <td>Dec-11</td>\n",
       "      <td>0</td>\n",
       "      <td>wedding</td>\n",
       "      <td>AZ</td>\n",
       "      <td>11.20</td>\n",
       "      <td>0.0</td>\n",
       "      <td>0.138889</td>\n",
       "    </tr>\n",
       "  </tbody>\n",
       "</table>\n",
       "</div>"
      ],
      "text/plain": [
       "   loan_amnt  funded_amnt  funded_amnt_inv        term int_rate  installment  \\\n",
       "0       5000         5000           4975.0   36 months   10.65%       162.87   \n",
       "1       2500         2500           2500.0   60 months   15.27%        59.83   \n",
       "2       2400         2400           2400.0   36 months   15.96%        84.33   \n",
       "3      10000        10000          10000.0   36 months   13.49%       339.31   \n",
       "5       5000         5000           5000.0   36 months    7.90%       156.46   \n",
       "\n",
       "  grade             emp_title emp_length home_ownership  annual_inc  \\\n",
       "0     B                   NaN  10+ years           RENT     24000.0   \n",
       "1     C                 Ryder   < 1 year           RENT     30000.0   \n",
       "2     C                   NaN  10+ years           RENT     12252.0   \n",
       "3     C   AIR RESOURCES BOARD  10+ years           RENT     49200.0   \n",
       "5     A  Veolia Transportaton    3 years           RENT     36000.0   \n",
       "\n",
       "  verification_status issue_d  loan_status         purpose addr_state    dti  \\\n",
       "0            Verified  Dec-11            0     credit_card         AZ  27.65   \n",
       "1     Source Verified  Dec-11            1             car         GA   1.00   \n",
       "2        Not Verified  Dec-11            0  small_business         IL   8.72   \n",
       "3     Source Verified  Dec-11            0           other         CA  20.00   \n",
       "5     Source Verified  Dec-11            0         wedding         AZ  11.20   \n",
       "\n",
       "   pub_rec_bankruptcies  loan_inc_ratio  \n",
       "0                   0.0        0.208333  \n",
       "1                   0.0        0.083333  \n",
       "2                   0.0        0.195886  \n",
       "3                   0.0        0.203252  \n",
       "5                   0.0        0.138889  "
      ]
     },
     "execution_count": 23,
     "metadata": {},
     "output_type": "execute_result"
    }
   ],
   "source": [
    "loan.head()"
   ]
  },
  {
   "cell_type": "code",
   "execution_count": 24,
   "id": "cb1553d9",
   "metadata": {},
   "outputs": [],
   "source": [
    "#Create Bins for range of Loan Amount\n",
    "bins = [0, 5000, 10000, 15000, 20000, 25000,40000]\n",
    "slot = ['0-5000', '5000-10000', '10000-15000', '15000-20000', '20000-25000','25000 and above']\n",
    "loan['loan_amnt_range'] = pd.cut(loan['loan_amnt'], bins, labels=slot)"
   ]
  },
  {
   "cell_type": "code",
   "execution_count": 25,
   "id": "bcf3de58",
   "metadata": {},
   "outputs": [],
   "source": [
    "#Create Bins for range of Annual Income\n",
    "bins = [0, 25000, 50000, 75000, 100000,1000000]\n",
    "slot = ['0-25000', '25000-50000', '50000-75000', '75000-100000', '100000 and above']\n",
    "loan['annual_inc_range'] = pd.cut(loan['annual_inc'], bins, labels=slot)"
   ]
  },
  {
   "cell_type": "code",
   "execution_count": 26,
   "id": "12afc14e",
   "metadata": {},
   "outputs": [],
   "source": [
    "# Convert 'issue_d' column datatype to datetime\n",
    "loan['issue_d'] = loan['issue_d'].apply(lambda row: datetime.strptime(row,'%b-%y'))"
   ]
  },
  {
   "cell_type": "code",
   "execution_count": 27,
   "id": "586bc2ef",
   "metadata": {},
   "outputs": [
    {
     "data": {
      "text/html": [
       "<div>\n",
       "<style scoped>\n",
       "    .dataframe tbody tr th:only-of-type {\n",
       "        vertical-align: middle;\n",
       "    }\n",
       "\n",
       "    .dataframe tbody tr th {\n",
       "        vertical-align: top;\n",
       "    }\n",
       "\n",
       "    .dataframe thead th {\n",
       "        text-align: right;\n",
       "    }\n",
       "</style>\n",
       "<table border=\"1\" class=\"dataframe\">\n",
       "  <thead>\n",
       "    <tr style=\"text-align: right;\">\n",
       "      <th></th>\n",
       "      <th>loan_amnt</th>\n",
       "      <th>funded_amnt</th>\n",
       "      <th>funded_amnt_inv</th>\n",
       "      <th>term</th>\n",
       "      <th>int_rate</th>\n",
       "      <th>installment</th>\n",
       "      <th>grade</th>\n",
       "      <th>emp_title</th>\n",
       "      <th>emp_length</th>\n",
       "      <th>home_ownership</th>\n",
       "      <th>...</th>\n",
       "      <th>loan_status</th>\n",
       "      <th>purpose</th>\n",
       "      <th>addr_state</th>\n",
       "      <th>dti</th>\n",
       "      <th>pub_rec_bankruptcies</th>\n",
       "      <th>loan_inc_ratio</th>\n",
       "      <th>loan_amnt_range</th>\n",
       "      <th>annual_inc_range</th>\n",
       "      <th>issue_month</th>\n",
       "      <th>issue_year</th>\n",
       "    </tr>\n",
       "  </thead>\n",
       "  <tbody>\n",
       "    <tr>\n",
       "      <th>0</th>\n",
       "      <td>5000</td>\n",
       "      <td>5000</td>\n",
       "      <td>4975.0</td>\n",
       "      <td>36 months</td>\n",
       "      <td>10.65%</td>\n",
       "      <td>162.87</td>\n",
       "      <td>B</td>\n",
       "      <td>NaN</td>\n",
       "      <td>10+ years</td>\n",
       "      <td>RENT</td>\n",
       "      <td>...</td>\n",
       "      <td>0</td>\n",
       "      <td>credit_card</td>\n",
       "      <td>AZ</td>\n",
       "      <td>27.65</td>\n",
       "      <td>0.0</td>\n",
       "      <td>0.208333</td>\n",
       "      <td>0-5000</td>\n",
       "      <td>0-25000</td>\n",
       "      <td>12</td>\n",
       "      <td>2011</td>\n",
       "    </tr>\n",
       "    <tr>\n",
       "      <th>1</th>\n",
       "      <td>2500</td>\n",
       "      <td>2500</td>\n",
       "      <td>2500.0</td>\n",
       "      <td>60 months</td>\n",
       "      <td>15.27%</td>\n",
       "      <td>59.83</td>\n",
       "      <td>C</td>\n",
       "      <td>Ryder</td>\n",
       "      <td>&lt; 1 year</td>\n",
       "      <td>RENT</td>\n",
       "      <td>...</td>\n",
       "      <td>1</td>\n",
       "      <td>car</td>\n",
       "      <td>GA</td>\n",
       "      <td>1.00</td>\n",
       "      <td>0.0</td>\n",
       "      <td>0.083333</td>\n",
       "      <td>0-5000</td>\n",
       "      <td>25000-50000</td>\n",
       "      <td>12</td>\n",
       "      <td>2011</td>\n",
       "    </tr>\n",
       "    <tr>\n",
       "      <th>2</th>\n",
       "      <td>2400</td>\n",
       "      <td>2400</td>\n",
       "      <td>2400.0</td>\n",
       "      <td>36 months</td>\n",
       "      <td>15.96%</td>\n",
       "      <td>84.33</td>\n",
       "      <td>C</td>\n",
       "      <td>NaN</td>\n",
       "      <td>10+ years</td>\n",
       "      <td>RENT</td>\n",
       "      <td>...</td>\n",
       "      <td>0</td>\n",
       "      <td>small_business</td>\n",
       "      <td>IL</td>\n",
       "      <td>8.72</td>\n",
       "      <td>0.0</td>\n",
       "      <td>0.195886</td>\n",
       "      <td>0-5000</td>\n",
       "      <td>0-25000</td>\n",
       "      <td>12</td>\n",
       "      <td>2011</td>\n",
       "    </tr>\n",
       "    <tr>\n",
       "      <th>3</th>\n",
       "      <td>10000</td>\n",
       "      <td>10000</td>\n",
       "      <td>10000.0</td>\n",
       "      <td>36 months</td>\n",
       "      <td>13.49%</td>\n",
       "      <td>339.31</td>\n",
       "      <td>C</td>\n",
       "      <td>AIR RESOURCES BOARD</td>\n",
       "      <td>10+ years</td>\n",
       "      <td>RENT</td>\n",
       "      <td>...</td>\n",
       "      <td>0</td>\n",
       "      <td>other</td>\n",
       "      <td>CA</td>\n",
       "      <td>20.00</td>\n",
       "      <td>0.0</td>\n",
       "      <td>0.203252</td>\n",
       "      <td>5000-10000</td>\n",
       "      <td>25000-50000</td>\n",
       "      <td>12</td>\n",
       "      <td>2011</td>\n",
       "    </tr>\n",
       "    <tr>\n",
       "      <th>5</th>\n",
       "      <td>5000</td>\n",
       "      <td>5000</td>\n",
       "      <td>5000.0</td>\n",
       "      <td>36 months</td>\n",
       "      <td>7.90%</td>\n",
       "      <td>156.46</td>\n",
       "      <td>A</td>\n",
       "      <td>Veolia Transportaton</td>\n",
       "      <td>3 years</td>\n",
       "      <td>RENT</td>\n",
       "      <td>...</td>\n",
       "      <td>0</td>\n",
       "      <td>wedding</td>\n",
       "      <td>AZ</td>\n",
       "      <td>11.20</td>\n",
       "      <td>0.0</td>\n",
       "      <td>0.138889</td>\n",
       "      <td>0-5000</td>\n",
       "      <td>25000-50000</td>\n",
       "      <td>12</td>\n",
       "      <td>2011</td>\n",
       "    </tr>\n",
       "  </tbody>\n",
       "</table>\n",
       "<p>5 rows × 22 columns</p>\n",
       "</div>"
      ],
      "text/plain": [
       "   loan_amnt  funded_amnt  funded_amnt_inv        term int_rate  installment  \\\n",
       "0       5000         5000           4975.0   36 months   10.65%       162.87   \n",
       "1       2500         2500           2500.0   60 months   15.27%        59.83   \n",
       "2       2400         2400           2400.0   36 months   15.96%        84.33   \n",
       "3      10000        10000          10000.0   36 months   13.49%       339.31   \n",
       "5       5000         5000           5000.0   36 months    7.90%       156.46   \n",
       "\n",
       "  grade             emp_title emp_length home_ownership  ...  loan_status  \\\n",
       "0     B                   NaN  10+ years           RENT  ...            0   \n",
       "1     C                 Ryder   < 1 year           RENT  ...            1   \n",
       "2     C                   NaN  10+ years           RENT  ...            0   \n",
       "3     C   AIR RESOURCES BOARD  10+ years           RENT  ...            0   \n",
       "5     A  Veolia Transportaton    3 years           RENT  ...            0   \n",
       "\n",
       "          purpose  addr_state    dti pub_rec_bankruptcies  loan_inc_ratio  \\\n",
       "0     credit_card          AZ  27.65                  0.0        0.208333   \n",
       "1             car          GA   1.00                  0.0        0.083333   \n",
       "2  small_business          IL   8.72                  0.0        0.195886   \n",
       "3           other          CA  20.00                  0.0        0.203252   \n",
       "5         wedding          AZ  11.20                  0.0        0.138889   \n",
       "\n",
       "   loan_amnt_range  annual_inc_range issue_month issue_year  \n",
       "0           0-5000           0-25000          12       2011  \n",
       "1           0-5000       25000-50000          12       2011  \n",
       "2           0-5000           0-25000          12       2011  \n",
       "3       5000-10000       25000-50000          12       2011  \n",
       "5           0-5000       25000-50000          12       2011  \n",
       "\n",
       "[5 rows x 22 columns]"
      ]
     },
     "execution_count": 27,
     "metadata": {},
     "output_type": "execute_result"
    }
   ],
   "source": [
    "# Derive year column from 'issue_d' and drop it\n",
    "loan['issue_month'] = loan['issue_d'].dt.month\n",
    "loan['issue_year'] = loan['issue_d'].dt.year\n",
    "loan.drop('issue_d', axis=1, inplace=True)\n",
    "loan.head()"
   ]
  },
  {
   "cell_type": "code",
   "execution_count": 28,
   "id": "27b87dca",
   "metadata": {},
   "outputs": [],
   "source": [
    "#change the type of int_rate column from string to float\n",
    "loan['int_rate'] = loan['int_rate'].str.rstrip('%').astype(float)"
   ]
  },
  {
   "cell_type": "code",
   "execution_count": 29,
   "id": "eaac3367",
   "metadata": {},
   "outputs": [
    {
     "data": {
      "text/plain": [
       "debt_consolidation    18055\n",
       "credit_card            5027\n",
       "other                  3865\n",
       "home_improvement       2875\n",
       "major_purchase         2150\n",
       "small_business         1754\n",
       "car                    1499\n",
       "wedding                 926\n",
       "medical                 681\n",
       "moving                  576\n",
       "vacation                375\n",
       "house                   367\n",
       "educational             325\n",
       "renewable_energy        102\n",
       "Name: purpose, dtype: int64"
      ]
     },
     "execution_count": 29,
     "metadata": {},
     "output_type": "execute_result"
    }
   ],
   "source": [
    "loan['purpose'].value_counts()"
   ]
  },
  {
   "cell_type": "code",
   "execution_count": 30,
   "id": "78dab2ac",
   "metadata": {},
   "outputs": [
    {
     "data": {
      "text/plain": [
       "US Army                                     131\n",
       "Bank of America                             107\n",
       "IBM                                          65\n",
       "AT&T                                         57\n",
       "Kaiser Permanente                            56\n",
       "                                           ... \n",
       "amneal pharmaceuticals                        1\n",
       "Net Equity Financial                          1\n",
       "Kernersville Fire Department                  1\n",
       "The Keith Corp. (empl by county, now Kei      1\n",
       "Evergreen Center                              1\n",
       "Name: emp_title, Length: 28027, dtype: int64"
      ]
     },
     "execution_count": 30,
     "metadata": {},
     "output_type": "execute_result"
    }
   ],
   "source": [
    "loan['emp_title'].value_counts()"
   ]
  },
  {
   "cell_type": "code",
   "execution_count": 31,
   "id": "87964a83",
   "metadata": {},
   "outputs": [
    {
     "data": {
      "text/html": [
       "<div>\n",
       "<style scoped>\n",
       "    .dataframe tbody tr th:only-of-type {\n",
       "        vertical-align: middle;\n",
       "    }\n",
       "\n",
       "    .dataframe tbody tr th {\n",
       "        vertical-align: top;\n",
       "    }\n",
       "\n",
       "    .dataframe thead th {\n",
       "        text-align: right;\n",
       "    }\n",
       "</style>\n",
       "<table border=\"1\" class=\"dataframe\">\n",
       "  <thead>\n",
       "    <tr style=\"text-align: right;\">\n",
       "      <th></th>\n",
       "      <th>loan_amnt</th>\n",
       "      <th>funded_amnt</th>\n",
       "      <th>funded_amnt_inv</th>\n",
       "      <th>term</th>\n",
       "      <th>int_rate</th>\n",
       "      <th>installment</th>\n",
       "      <th>grade</th>\n",
       "      <th>emp_title</th>\n",
       "      <th>emp_length</th>\n",
       "      <th>home_ownership</th>\n",
       "      <th>...</th>\n",
       "      <th>loan_status</th>\n",
       "      <th>purpose</th>\n",
       "      <th>addr_state</th>\n",
       "      <th>dti</th>\n",
       "      <th>pub_rec_bankruptcies</th>\n",
       "      <th>loan_inc_ratio</th>\n",
       "      <th>loan_amnt_range</th>\n",
       "      <th>annual_inc_range</th>\n",
       "      <th>issue_month</th>\n",
       "      <th>issue_year</th>\n",
       "    </tr>\n",
       "  </thead>\n",
       "  <tbody>\n",
       "    <tr>\n",
       "      <th>1</th>\n",
       "      <td>2500</td>\n",
       "      <td>2500</td>\n",
       "      <td>2500.0</td>\n",
       "      <td>60 months</td>\n",
       "      <td>15.27</td>\n",
       "      <td>59.83</td>\n",
       "      <td>C</td>\n",
       "      <td>Ryder</td>\n",
       "      <td>&lt; 1 year</td>\n",
       "      <td>RENT</td>\n",
       "      <td>...</td>\n",
       "      <td>1</td>\n",
       "      <td>car</td>\n",
       "      <td>GA</td>\n",
       "      <td>1.00</td>\n",
       "      <td>0.0</td>\n",
       "      <td>0.083333</td>\n",
       "      <td>0-5000</td>\n",
       "      <td>25000-50000</td>\n",
       "      <td>12</td>\n",
       "      <td>2011</td>\n",
       "    </tr>\n",
       "    <tr>\n",
       "      <th>8</th>\n",
       "      <td>5600</td>\n",
       "      <td>5600</td>\n",
       "      <td>5600.0</td>\n",
       "      <td>60 months</td>\n",
       "      <td>21.28</td>\n",
       "      <td>152.39</td>\n",
       "      <td>F</td>\n",
       "      <td>NaN</td>\n",
       "      <td>4 years</td>\n",
       "      <td>OWN</td>\n",
       "      <td>...</td>\n",
       "      <td>1</td>\n",
       "      <td>small_business</td>\n",
       "      <td>CA</td>\n",
       "      <td>5.55</td>\n",
       "      <td>0.0</td>\n",
       "      <td>0.140000</td>\n",
       "      <td>5000-10000</td>\n",
       "      <td>25000-50000</td>\n",
       "      <td>12</td>\n",
       "      <td>2011</td>\n",
       "    </tr>\n",
       "    <tr>\n",
       "      <th>9</th>\n",
       "      <td>5375</td>\n",
       "      <td>5375</td>\n",
       "      <td>5350.0</td>\n",
       "      <td>60 months</td>\n",
       "      <td>12.69</td>\n",
       "      <td>121.45</td>\n",
       "      <td>B</td>\n",
       "      <td>Starbucks</td>\n",
       "      <td>&lt; 1 year</td>\n",
       "      <td>RENT</td>\n",
       "      <td>...</td>\n",
       "      <td>1</td>\n",
       "      <td>other</td>\n",
       "      <td>TX</td>\n",
       "      <td>18.08</td>\n",
       "      <td>0.0</td>\n",
       "      <td>0.358333</td>\n",
       "      <td>5000-10000</td>\n",
       "      <td>0-25000</td>\n",
       "      <td>12</td>\n",
       "      <td>2011</td>\n",
       "    </tr>\n",
       "    <tr>\n",
       "      <th>12</th>\n",
       "      <td>9000</td>\n",
       "      <td>9000</td>\n",
       "      <td>9000.0</td>\n",
       "      <td>36 months</td>\n",
       "      <td>13.49</td>\n",
       "      <td>305.38</td>\n",
       "      <td>C</td>\n",
       "      <td>Va. Dept of Conservation/Recreation</td>\n",
       "      <td>&lt; 1 year</td>\n",
       "      <td>RENT</td>\n",
       "      <td>...</td>\n",
       "      <td>1</td>\n",
       "      <td>debt_consolidation</td>\n",
       "      <td>VA</td>\n",
       "      <td>10.08</td>\n",
       "      <td>0.0</td>\n",
       "      <td>0.300000</td>\n",
       "      <td>5000-10000</td>\n",
       "      <td>25000-50000</td>\n",
       "      <td>12</td>\n",
       "      <td>2011</td>\n",
       "    </tr>\n",
       "    <tr>\n",
       "      <th>14</th>\n",
       "      <td>10000</td>\n",
       "      <td>10000</td>\n",
       "      <td>10000.0</td>\n",
       "      <td>36 months</td>\n",
       "      <td>10.65</td>\n",
       "      <td>325.74</td>\n",
       "      <td>B</td>\n",
       "      <td>SFMTA</td>\n",
       "      <td>3 years</td>\n",
       "      <td>RENT</td>\n",
       "      <td>...</td>\n",
       "      <td>1</td>\n",
       "      <td>other</td>\n",
       "      <td>CA</td>\n",
       "      <td>7.06</td>\n",
       "      <td>0.0</td>\n",
       "      <td>0.100000</td>\n",
       "      <td>5000-10000</td>\n",
       "      <td>75000-100000</td>\n",
       "      <td>12</td>\n",
       "      <td>2011</td>\n",
       "    </tr>\n",
       "    <tr>\n",
       "      <th>...</th>\n",
       "      <td>...</td>\n",
       "      <td>...</td>\n",
       "      <td>...</td>\n",
       "      <td>...</td>\n",
       "      <td>...</td>\n",
       "      <td>...</td>\n",
       "      <td>...</td>\n",
       "      <td>...</td>\n",
       "      <td>...</td>\n",
       "      <td>...</td>\n",
       "      <td>...</td>\n",
       "      <td>...</td>\n",
       "      <td>...</td>\n",
       "      <td>...</td>\n",
       "      <td>...</td>\n",
       "      <td>...</td>\n",
       "      <td>...</td>\n",
       "      <td>...</td>\n",
       "      <td>...</td>\n",
       "      <td>...</td>\n",
       "      <td>...</td>\n",
       "    </tr>\n",
       "    <tr>\n",
       "      <th>39667</th>\n",
       "      <td>2500</td>\n",
       "      <td>2500</td>\n",
       "      <td>675.0</td>\n",
       "      <td>36 months</td>\n",
       "      <td>12.80</td>\n",
       "      <td>84.00</td>\n",
       "      <td>D</td>\n",
       "      <td>Nebraska Occupational Therapy</td>\n",
       "      <td>&lt; 1 year</td>\n",
       "      <td>MORTGAGE</td>\n",
       "      <td>...</td>\n",
       "      <td>1</td>\n",
       "      <td>home_improvement</td>\n",
       "      <td>NE</td>\n",
       "      <td>20.00</td>\n",
       "      <td>NaN</td>\n",
       "      <td>0.078125</td>\n",
       "      <td>0-5000</td>\n",
       "      <td>25000-50000</td>\n",
       "      <td>8</td>\n",
       "      <td>2007</td>\n",
       "    </tr>\n",
       "    <tr>\n",
       "      <th>39668</th>\n",
       "      <td>2500</td>\n",
       "      <td>2500</td>\n",
       "      <td>825.0</td>\n",
       "      <td>36 months</td>\n",
       "      <td>9.64</td>\n",
       "      <td>80.26</td>\n",
       "      <td>B</td>\n",
       "      <td>AMZ Marketing</td>\n",
       "      <td>&lt; 1 year</td>\n",
       "      <td>MORTGAGE</td>\n",
       "      <td>...</td>\n",
       "      <td>1</td>\n",
       "      <td>home_improvement</td>\n",
       "      <td>NE</td>\n",
       "      <td>20.00</td>\n",
       "      <td>NaN</td>\n",
       "      <td>0.033333</td>\n",
       "      <td>0-5000</td>\n",
       "      <td>50000-75000</td>\n",
       "      <td>8</td>\n",
       "      <td>2007</td>\n",
       "    </tr>\n",
       "    <tr>\n",
       "      <th>39669</th>\n",
       "      <td>6500</td>\n",
       "      <td>6500</td>\n",
       "      <td>225.0</td>\n",
       "      <td>36 months</td>\n",
       "      <td>15.01</td>\n",
       "      <td>225.37</td>\n",
       "      <td>F</td>\n",
       "      <td>Universal Advertising</td>\n",
       "      <td>9 years</td>\n",
       "      <td>MORTGAGE</td>\n",
       "      <td>...</td>\n",
       "      <td>1</td>\n",
       "      <td>small_business</td>\n",
       "      <td>GA</td>\n",
       "      <td>6.45</td>\n",
       "      <td>NaN</td>\n",
       "      <td>0.030516</td>\n",
       "      <td>5000-10000</td>\n",
       "      <td>100000 and above</td>\n",
       "      <td>8</td>\n",
       "      <td>2007</td>\n",
       "    </tr>\n",
       "    <tr>\n",
       "      <th>39678</th>\n",
       "      <td>1000</td>\n",
       "      <td>1000</td>\n",
       "      <td>950.0</td>\n",
       "      <td>36 months</td>\n",
       "      <td>10.59</td>\n",
       "      <td>32.55</td>\n",
       "      <td>C</td>\n",
       "      <td>Invision Power Services</td>\n",
       "      <td>2 years</td>\n",
       "      <td>MORTGAGE</td>\n",
       "      <td>...</td>\n",
       "      <td>1</td>\n",
       "      <td>wedding</td>\n",
       "      <td>VA</td>\n",
       "      <td>14.47</td>\n",
       "      <td>NaN</td>\n",
       "      <td>0.029420</td>\n",
       "      <td>0-5000</td>\n",
       "      <td>25000-50000</td>\n",
       "      <td>8</td>\n",
       "      <td>2007</td>\n",
       "    </tr>\n",
       "    <tr>\n",
       "      <th>39688</th>\n",
       "      <td>20000</td>\n",
       "      <td>20000</td>\n",
       "      <td>2800.0</td>\n",
       "      <td>36 months</td>\n",
       "      <td>13.43</td>\n",
       "      <td>678.08</td>\n",
       "      <td>E</td>\n",
       "      <td>Auto motors of miami</td>\n",
       "      <td>6 years</td>\n",
       "      <td>MORTGAGE</td>\n",
       "      <td>...</td>\n",
       "      <td>1</td>\n",
       "      <td>credit_card</td>\n",
       "      <td>FL</td>\n",
       "      <td>10.15</td>\n",
       "      <td>NaN</td>\n",
       "      <td>0.137931</td>\n",
       "      <td>15000-20000</td>\n",
       "      <td>100000 and above</td>\n",
       "      <td>8</td>\n",
       "      <td>2007</td>\n",
       "    </tr>\n",
       "  </tbody>\n",
       "</table>\n",
       "<p>5627 rows × 22 columns</p>\n",
       "</div>"
      ],
      "text/plain": [
       "       loan_amnt  funded_amnt  funded_amnt_inv        term  int_rate  \\\n",
       "1           2500         2500           2500.0   60 months     15.27   \n",
       "8           5600         5600           5600.0   60 months     21.28   \n",
       "9           5375         5375           5350.0   60 months     12.69   \n",
       "12          9000         9000           9000.0   36 months     13.49   \n",
       "14         10000        10000          10000.0   36 months     10.65   \n",
       "...          ...          ...              ...         ...       ...   \n",
       "39667       2500         2500            675.0   36 months     12.80   \n",
       "39668       2500         2500            825.0   36 months      9.64   \n",
       "39669       6500         6500            225.0   36 months     15.01   \n",
       "39678       1000         1000            950.0   36 months     10.59   \n",
       "39688      20000        20000           2800.0   36 months     13.43   \n",
       "\n",
       "       installment grade                            emp_title emp_length  \\\n",
       "1            59.83     C                                Ryder   < 1 year   \n",
       "8           152.39     F                                  NaN    4 years   \n",
       "9           121.45     B                            Starbucks   < 1 year   \n",
       "12          305.38     C  Va. Dept of Conservation/Recreation   < 1 year   \n",
       "14          325.74     B                                SFMTA    3 years   \n",
       "...            ...   ...                                  ...        ...   \n",
       "39667        84.00     D        Nebraska Occupational Therapy   < 1 year   \n",
       "39668        80.26     B                        AMZ Marketing   < 1 year   \n",
       "39669       225.37     F                Universal Advertising    9 years   \n",
       "39678        32.55     C              Invision Power Services    2 years   \n",
       "39688       678.08     E                 Auto motors of miami    6 years   \n",
       "\n",
       "      home_ownership  ...  loan_status             purpose  addr_state    dti  \\\n",
       "1               RENT  ...            1                 car          GA   1.00   \n",
       "8                OWN  ...            1      small_business          CA   5.55   \n",
       "9               RENT  ...            1               other          TX  18.08   \n",
       "12              RENT  ...            1  debt_consolidation          VA  10.08   \n",
       "14              RENT  ...            1               other          CA   7.06   \n",
       "...              ...  ...          ...                 ...         ...    ...   \n",
       "39667       MORTGAGE  ...            1    home_improvement          NE  20.00   \n",
       "39668       MORTGAGE  ...            1    home_improvement          NE  20.00   \n",
       "39669       MORTGAGE  ...            1      small_business          GA   6.45   \n",
       "39678       MORTGAGE  ...            1             wedding          VA  14.47   \n",
       "39688       MORTGAGE  ...            1         credit_card          FL  10.15   \n",
       "\n",
       "      pub_rec_bankruptcies  loan_inc_ratio  loan_amnt_range  annual_inc_range  \\\n",
       "1                      0.0        0.083333           0-5000       25000-50000   \n",
       "8                      0.0        0.140000       5000-10000       25000-50000   \n",
       "9                      0.0        0.358333       5000-10000           0-25000   \n",
       "12                     0.0        0.300000       5000-10000       25000-50000   \n",
       "14                     0.0        0.100000       5000-10000      75000-100000   \n",
       "...                    ...             ...              ...               ...   \n",
       "39667                  NaN        0.078125           0-5000       25000-50000   \n",
       "39668                  NaN        0.033333           0-5000       50000-75000   \n",
       "39669                  NaN        0.030516       5000-10000  100000 and above   \n",
       "39678                  NaN        0.029420           0-5000       25000-50000   \n",
       "39688                  NaN        0.137931      15000-20000  100000 and above   \n",
       "\n",
       "      issue_month issue_year  \n",
       "1              12       2011  \n",
       "8              12       2011  \n",
       "9              12       2011  \n",
       "12             12       2011  \n",
       "14             12       2011  \n",
       "...           ...        ...  \n",
       "39667           8       2007  \n",
       "39668           8       2007  \n",
       "39669           8       2007  \n",
       "39678           8       2007  \n",
       "39688           8       2007  \n",
       "\n",
       "[5627 rows x 22 columns]"
      ]
     },
     "execution_count": 31,
     "metadata": {},
     "output_type": "execute_result"
    }
   ],
   "source": [
    "# Filter a defaulter dataset for further analysis\n",
    "loan_defaulted = loan[~(loan['loan_status'] == 0)]\n",
    "loan_defaulted "
   ]
  },
  {
   "cell_type": "code",
   "execution_count": 32,
   "id": "02d27c7a",
   "metadata": {},
   "outputs": [
    {
     "data": {
      "text/plain": [
       "0.15"
      ]
     },
     "execution_count": 32,
     "metadata": {},
     "output_type": "execute_result"
    }
   ],
   "source": [
    "#First, let's look at the overall default rate\n",
    "round(np.mean(loan['loan_status']), 2)"
   ]
  },
  {
   "cell_type": "markdown",
   "id": "e100c0f6",
   "metadata": {},
   "source": [
    "The overall default rate is about 15%."
   ]
  },
  {
   "cell_type": "markdown",
   "id": "14bd0e54",
   "metadata": {},
   "source": [
    "# Univariate Analysis"
   ]
  },
  {
   "cell_type": "code",
   "execution_count": 33,
   "id": "536b096f",
   "metadata": {},
   "outputs": [
    {
     "data": {
      "image/png": "[encoded data removed]",
      "text/plain": [
       "<Figure size 864x288 with 1 Axes>"
      ]
     },
     "metadata": {
      "needs_background": "light"
     },
     "output_type": "display_data"
    }
   ],
   "source": [
    "plt.figure(figsize=(12, 4))\n",
    "sns.boxplot(loan['loan_amnt'])\n",
    "plt.show()"
   ]
  },
  {
   "cell_type": "markdown",
   "id": "60e53025",
   "metadata": {},
   "source": [
    "    # Observation: Most of the loan amounts are distributed between 5000 to 15000. It is having outlier."
   ]
  },
  {
   "cell_type": "code",
   "execution_count": 34,
   "id": "8140a98c",
   "metadata": {},
   "outputs": [
    {
     "data": {
      "image/png": "[encoded data removed]",
      "text/plain": [
       "<Figure size 864x288 with 1 Axes>"
      ]
     },
     "metadata": {
      "needs_background": "light"
     },
     "output_type": "display_data"
    }
   ],
   "source": [
    "plt.figure(figsize=(12, 4))\n",
    "sns.boxplot(loan['installment'])\n",
    "plt.show()"
   ]
  },
  {
   "cell_type": "markdown",
   "id": "2be6855f",
   "metadata": {},
   "source": [
    "    # Observation: The instalment ranges around 200 to more than 400 "
   ]
  },
  {
   "cell_type": "code",
   "execution_count": 35,
   "id": "b6f52c1d",
   "metadata": {},
   "outputs": [
    {
     "data": {
      "text/plain": [
       "<AxesSubplot:xlabel='loan_status', ylabel='count'>"
      ]
     },
     "execution_count": 35,
     "metadata": {},
     "output_type": "execute_result"
    },
    {
     "data": {
      "image/png": "[encoded data removed]",
      "text/plain": [
       "<Figure size 432x288 with 1 Axes>"
      ]
     },
     "metadata": {
      "needs_background": "light"
     },
     "output_type": "display_data"
    }
   ],
   "source": [
    "# Categorical Variables\n",
    "sns.countplot(x=\"loan_status\", data=loan_defaulted, hue='term',palette='pastel', linewidth=5)\n"
   ]
  },
  {
   "cell_type": "markdown",
   "id": "4cdd9112",
   "metadata": {},
   "source": [
    "    # Observation: 14% of loan applied are charged Off of which 73% of loan applied are having term of 36 months."
   ]
  },
  {
   "cell_type": "code",
   "execution_count": 62,
   "id": "0b93ec26",
   "metadata": {},
   "outputs": [
    {
     "data": {
      "image/png": "[encoded data removed]",
      "text/plain": [
       "<Figure size 432x288 with 1 Axes>"
      ]
     },
     "metadata": {
      "needs_background": "light"
     },
     "output_type": "display_data"
    }
   ],
   "source": [
    "# Categorical Variables\n",
    "sns.countplot(x=\"loan_status\", data=loan, palette='pastel', linewidth=5)\n",
    "plt.show()\n"
   ]
  },
  {
   "cell_type": "markdown",
   "id": "dd0b706a",
   "metadata": {},
   "source": [
    "14.6% loan applicants have defaulted."
   ]
  },
  {
   "cell_type": "code",
   "execution_count": 36,
   "id": "9b447c63",
   "metadata": {},
   "outputs": [
    {
     "data": {
      "image/png": "[encoded data removed]",
      "text/plain": [
       "<Figure size 432x288 with 1 Axes>"
      ]
     },
     "metadata": {
      "needs_background": "light"
     },
     "output_type": "display_data"
    }
   ],
   "source": [
    "sns.countplot(x=\"loan_amnt_range\", data=loan,palette='pastel', linewidth=5)\n",
    "plt.xticks(rotation=90)\n",
    "plt.show()"
   ]
  },
  {
   "cell_type": "markdown",
   "id": "c5152e5d",
   "metadata": {},
   "source": [
    "The loan amount range is more incase of 5000-10000 followed by 10000-15000."
   ]
  },
  {
   "cell_type": "code",
   "execution_count": 37,
   "id": "c94e2f4e",
   "metadata": {},
   "outputs": [
    {
     "data": {
      "image/png": "[encoded data removed]",
      "text/plain": [
       "<Figure size 432x288 with 1 Axes>"
      ]
     },
     "metadata": {
      "needs_background": "light"
     },
     "output_type": "display_data"
    }
   ],
   "source": [
    "# plotting default rates across grade of the loan\n",
    "sns.barplot(x='verification_status', y='loan_status', data= loan)\n",
    "plt.show()"
   ]
  },
  {
   "cell_type": "markdown",
   "id": "8186fb99",
   "metadata": {},
   "source": [
    "The verification status for verified is more compared to other two."
   ]
  },
  {
   "cell_type": "code",
   "execution_count": 38,
   "id": "e3f6f94f",
   "metadata": {},
   "outputs": [
    {
     "data": {
      "image/png": "[encoded data removed]",
      "text/plain": [
       "<Figure size 1296x432 with 1 Axes>"
      ]
     },
     "metadata": {
      "needs_background": "light"
     },
     "output_type": "display_data"
    }
   ],
   "source": [
    "\n",
    "# plotting default rates across grade of the loan\n",
    "plt.figure(figsize=(18, 6))\n",
    "sns.barplot(x='addr_state', y='loan_status', data= loan)\n",
    "plt.xticks(rotation=90)\n",
    "plt.show()"
   ]
  },
  {
   "cell_type": "markdown",
   "id": "6ce5be00",
   "metadata": {},
   "source": [
    "The NE has hgh default rates compare to others."
   ]
  },
  {
   "cell_type": "code",
   "execution_count": 39,
   "id": "f38fef5f",
   "metadata": {},
   "outputs": [
    {
     "data": {
      "image/png": "[encoded data removed]",
      "text/plain": [
       "<Figure size 432x288 with 1 Axes>"
      ]
     },
     "metadata": {
      "needs_background": "light"
     },
     "output_type": "display_data"
    }
   ],
   "source": [
    "# plotting default rates across grade of the loan\n",
    "sns.barplot(x='grade', y='loan_status', data= loan)\n",
    "plt.show()"
   ]
  },
  {
   "cell_type": "markdown",
   "id": "5541893e",
   "metadata": {},
   "source": [
    "   The grades G,F,E have high default rates."
   ]
  },
  {
   "cell_type": "code",
   "execution_count": 40,
   "id": "c1e92390",
   "metadata": {},
   "outputs": [
    {
     "data": {
      "text/plain": [
       "<matplotlib.legend.Legend at 0x19855ec6280>"
      ]
     },
     "execution_count": 40,
     "metadata": {},
     "output_type": "execute_result"
    },
    {
     "data": {
      "image/png": "[encoded data removed]",
      "text/plain": [
       "<Figure size 1296x432 with 1 Axes>"
      ]
     },
     "metadata": {
      "needs_background": "light"
     },
     "output_type": "display_data"
    }
   ],
   "source": [
    "plt.figure(figsize=(18, 6))\n",
    "ax = sns.countplot(x=\"home_ownership\", data=loan, hue='loan_status', palette='pastel', linewidth=5)\n",
    "ax.legend(loc=\"upper right\")"
   ]
  },
  {
   "cell_type": "markdown",
   "id": "f0245236",
   "metadata": {},
   "source": [
    "Observation: The majority of loan applicant are having home in rent `or mortgage"
   ]
  },
  {
   "cell_type": "markdown",
   "id": "924ca5c3",
   "metadata": {},
   "source": [
    "We can see clearly that from year 2007 to 2011 the loan applicants increases. "
   ]
  },
  {
   "cell_type": "code",
   "execution_count": 41,
   "id": "bb3c5719",
   "metadata": {},
   "outputs": [
    {
     "data": {
      "image/png": "[encoded data removed]",
      "text/plain": [
       "<Figure size 432x288 with 1 Axes>"
      ]
     },
     "metadata": {
      "needs_background": "light"
     },
     "output_type": "display_data"
    }
   ],
   "source": [
    "# plotting default rates across term of the loan\n",
    "sns.barplot(x='term', y='loan_status', data= loan)\n",
    "plt.show()"
   ]
  },
  {
   "cell_type": "markdown",
   "id": "5f8ed41b",
   "metadata": {},
   "source": [
    "The term: 60 months loans default more than 36 months loans."
   ]
  },
  {
   "cell_type": "code",
   "execution_count": 42,
   "id": "1837f6ef",
   "metadata": {},
   "outputs": [
    {
     "data": {
      "text/plain": [
       "2011    20516\n",
       "2010    11532\n",
       "2009     4716\n",
       "2008     1562\n",
       "2007      251\n",
       "Name: issue_year, dtype: int64"
      ]
     },
     "execution_count": 42,
     "metadata": {},
     "output_type": "execute_result"
    }
   ],
   "source": [
    "loan['issue_year'].value_counts()"
   ]
  },
  {
   "cell_type": "code",
   "execution_count": 43,
   "id": "98fe6991",
   "metadata": {},
   "outputs": [
    {
     "data": {
      "image/png": "[encoded data removed]",
      "text/plain": [
       "<Figure size 432x288 with 1 Axes>"
      ]
     },
     "metadata": {
      "needs_background": "light"
     },
     "output_type": "display_data"
    }
   ],
   "source": [
    "# plotting default rates across term of the loan\n",
    "sns.barplot(x='issue_year', y='loan_status', data= loan)\n",
    "plt.show()"
   ]
  },
  {
   "cell_type": "markdown",
   "id": "c385784e",
   "metadata": {},
   "source": [
    "The default rate is more in 2007 and 2011."
   ]
  },
  {
   "cell_type": "code",
   "execution_count": 44,
   "id": "39b40c2d",
   "metadata": {},
   "outputs": [
    {
     "data": {
      "image/png": "[encoded data removed]",
      "text/plain": [
       "<Figure size 432x288 with 1 Axes>"
      ]
     },
     "metadata": {
      "needs_background": "light"
     },
     "output_type": "display_data"
    }
   ],
   "source": [
    "# plotting default rates across term of the loan\n",
    "sns.barplot(x='issue_month', y='loan_status', data= loan)\n",
    "plt.show()"
   ]
  },
  {
   "cell_type": "markdown",
   "id": "87701259",
   "metadata": {},
   "source": [
    "# Bivariate Analysis"
   ]
  },
  {
   "cell_type": "code",
   "execution_count": 45,
   "id": "69c5b7d4",
   "metadata": {},
   "outputs": [
    {
     "data": {
      "image/png": "[encoded data removed]",
      "text/plain": [
       "<Figure size 864x360 with 1 Axes>"
      ]
     },
     "metadata": {
      "needs_background": "light"
     },
     "output_type": "display_data"
    }
   ],
   "source": [
    "\n",
    "plt.figure(figsize=(12,5))\n",
    "ax = sns.barplot(x=\"grade\", y=\"loan_inc_ratio\", data=loan)\n"
   ]
  },
  {
   "cell_type": "markdown",
   "id": "e5798ffa",
   "metadata": {},
   "source": [
    "The loan_inc_ratio is higher for G followed by F and E."
   ]
  },
  {
   "cell_type": "code",
   "execution_count": 46,
   "id": "d24fc4c0",
   "metadata": {},
   "outputs": [
    {
     "data": {
      "image/png": "[encoded data removed]",
      "text/plain": [
       "<Figure size 864x360 with 1 Axes>"
      ]
     },
     "metadata": {
      "needs_background": "light"
     },
     "output_type": "display_data"
    }
   ],
   "source": [
    "plt.figure(figsize=(12,5))\n",
    "ax = sns.barplot(x=\"purpose\", y=\"loan_inc_ratio\", data=loan)\n",
    "plt.xticks(rotation=90)\n",
    "plt.show()"
   ]
  },
  {
   "cell_type": "markdown",
   "id": "68e4cd29",
   "metadata": {},
   "source": [
    "loan_inc_ratio is more for small_business,debt_consolidation,house,educational and credit_card compare to others."
   ]
  },
  {
   "cell_type": "code",
   "execution_count": 47,
   "id": "aa0bb8f8",
   "metadata": {},
   "outputs": [
    {
     "data": {
      "image/png": "[encoded data removed]",
      "text/plain": [
       "<Figure size 864x360 with 1 Axes>"
      ]
     },
     "metadata": {
      "needs_background": "light"
     },
     "output_type": "display_data"
    }
   ],
   "source": [
    "plt.figure(figsize=(12,5))\n",
    "ax = sns.barplot(x=\"emp_length\", y=\"loan_amnt\",hue='loan_status',  data=loan)\n",
    "ax.legend(loc=\"upper right\")\n",
    "plt.show()"
   ]
  },
  {
   "cell_type": "markdown",
   "id": "6ab2c331",
   "metadata": {},
   "source": [
    "Observation: Maximum loan with 10+ years of employment length."
   ]
  },
  {
   "cell_type": "code",
   "execution_count": 48,
   "id": "2b80fd35",
   "metadata": {},
   "outputs": [
    {
     "data": {
      "image/png": "[encoded data removed]",
      "text/plain": [
       "<Figure size 1440x720 with 1 Axes>"
      ]
     },
     "metadata": {
      "needs_background": "light"
     },
     "output_type": "display_data"
    }
   ],
   "source": [
    "plt.figure(figsize=(20,10))\n",
    "ax = sns.barplot(x=\"emp_length\", y=\"loan_amnt\",hue='purpose',  data=loan)\n",
    "ax.legend(loc=\"upper right\")\n",
    "plt.show()"
   ]
  },
  {
   "cell_type": "code",
   "execution_count": 49,
   "id": "983b0109",
   "metadata": {},
   "outputs": [
    {
     "data": {
      "image/png": "[encoded data removed]",
      "text/plain": [
       "<Figure size 1080x504 with 1 Axes>"
      ]
     },
     "metadata": {
      "needs_background": "light"
     },
     "output_type": "display_data"
    }
   ],
   "source": [
    "plt.figure(figsize=(15,7))\n",
    "sns.boxplot(x = 'purpose', y = 'loan_amnt', data = loan)\n",
    "plt.xticks(rotation=90)\n",
    "plt.show()\n"
   ]
  },
  {
   "cell_type": "markdown",
   "id": "7defed07",
   "metadata": {},
   "source": [
    "Observation: The Small Business are taking the highest loan compared to others. "
   ]
  },
  {
   "cell_type": "code",
   "execution_count": 50,
   "id": "949fb37e",
   "metadata": {},
   "outputs": [
    {
     "data": {
      "text/plain": [
       "<AxesSubplot:xlabel='loan_status', ylabel='installment'>"
      ]
     },
     "execution_count": 50,
     "metadata": {},
     "output_type": "execute_result"
    },
    {
     "data": {
      "image/png": "[encoded data removed]",
      "text/plain": [
       "<Figure size 1080x504 with 1 Axes>"
      ]
     },
     "metadata": {
      "needs_background": "light"
     },
     "output_type": "display_data"
    }
   ],
   "source": [
    "plt.figure(figsize=(15,7))\n",
    "sns.boxplot(x = 'loan_status', y = 'installment', data = loan)\n"
   ]
  },
  {
   "cell_type": "markdown",
   "id": "0f791b35",
   "metadata": {},
   "source": [
    "    # Observation: Loans with less instalments are having maximum charged off."
   ]
  },
  {
   "cell_type": "code",
   "execution_count": 51,
   "id": "7bdb3053",
   "metadata": {},
   "outputs": [
    {
     "data": {
      "text/plain": [
       "<AxesSubplot:xlabel='annual_inc_range', ylabel='int_rate'>"
      ]
     },
     "execution_count": 51,
     "metadata": {},
     "output_type": "execute_result"
    },
    {
     "data": {
      "image/png": "[encoded data removed]",
      "text/plain": [
       "<Figure size 1080x504 with 1 Axes>"
      ]
     },
     "metadata": {
      "needs_background": "light"
     },
     "output_type": "display_data"
    }
   ],
   "source": [
    "plt.figure(figsize=(15,7))\n",
    "sns.barplot(x = 'annual_inc_range', y = 'int_rate', data = loan)\n"
   ]
  },
  {
   "cell_type": "markdown",
   "id": "83072851",
   "metadata": {},
   "source": [
    "The int_rate is gradually increasing for annual incomes."
   ]
  },
  {
   "cell_type": "code",
   "execution_count": 66,
   "id": "1bb2ef27",
   "metadata": {},
   "outputs": [
    {
     "data": {
      "image/png": "[encoded data removed]",
      "text/plain": [
       "<Figure size 360x216 with 1 Axes>"
      ]
     },
     "metadata": {
      "needs_background": "light"
     },
     "output_type": "display_data"
    }
   ],
   "source": [
    "plt.figure(figsize=(5,3))\n",
    "sns.barplot(x = 'loan_status', y = 'dti', data = loan)\n",
    "plt.show()\n"
   ]
  },
  {
   "cell_type": "markdown",
   "id": "77bf9267",
   "metadata": {},
   "source": [
    "Observation: The loan with higher DTI are getting Charged Off more"
   ]
  },
  {
   "cell_type": "code",
   "execution_count": 53,
   "id": "71b7ed3f",
   "metadata": {},
   "outputs": [
    {
     "data": {
      "text/plain": [
       "<matplotlib.legend.Legend at 0x1985ab4c460>"
      ]
     },
     "execution_count": 53,
     "metadata": {},
     "output_type": "execute_result"
    },
    {
     "data": {
      "image/png": "[encoded data removed]",
      "text/plain": [
       "<Figure size 864x360 with 1 Axes>"
      ]
     },
     "metadata": {
      "needs_background": "light"
     },
     "output_type": "display_data"
    }
   ],
   "source": [
    "plt.figure(figsize=(12,5))\n",
    "ax = sns.barplot(x=\"loan_status\", y=\"annual_inc\",hue='term',  data=loan)\n",
    "ax.legend(loc=\"upper right\")"
   ]
  },
  {
   "cell_type": "markdown",
   "id": "db7ccc6e",
   "metadata": {},
   "source": [
    "Observation: The \"fully paid\" is increasing with increasing in annual income."
   ]
  },
  {
   "cell_type": "code",
   "execution_count": 54,
   "id": "26ff0e90",
   "metadata": {},
   "outputs": [
    {
     "data": {
      "text/plain": [
       "Index(['loan_amnt', 'funded_amnt', 'funded_amnt_inv', 'term', 'int_rate',\n",
       "       'installment', 'grade', 'emp_title', 'emp_length', 'home_ownership',\n",
       "       'annual_inc', 'verification_status', 'loan_status', 'purpose',\n",
       "       'addr_state', 'dti', 'pub_rec_bankruptcies', 'loan_inc_ratio',\n",
       "       'loan_amnt_range', 'annual_inc_range', 'issue_month', 'issue_year'],\n",
       "      dtype='object')"
      ]
     },
     "execution_count": 54,
     "metadata": {},
     "output_type": "execute_result"
    }
   ],
   "source": [
    "loan.columns"
   ]
  },
  {
   "cell_type": "code",
   "execution_count": 60,
   "id": "4f27f87a",
   "metadata": {},
   "outputs": [
    {
     "data": {
      "image/png": "[encoded data removed]",
      "text/plain": [
       "<Figure size 360x216 with 1 Axes>"
      ]
     },
     "metadata": {
      "needs_background": "light"
     },
     "output_type": "display_data"
    }
   ],
   "source": [
    "plt.figure(figsize=(5,3))\n",
    "sns.barplot(x = 'annual_inc_range', y = 'dti', data = loan)\n",
    "plt.xticks(rotation=90)\n",
    "plt.show()\n"
   ]
  },
  {
   "cell_type": "markdown",
   "id": "3143f36b",
   "metadata": {},
   "source": [
    "dti is higher for annual_inc_range of 25000-50000."
   ]
  },
  {
   "cell_type": "markdown",
   "id": "94615319",
   "metadata": {},
   "source": [
    "# Correlation Matrix : All Continuos(Numeric) Variables"
   ]
  },
  {
   "cell_type": "code",
   "execution_count": 56,
   "id": "131b0d0d",
   "metadata": {},
   "outputs": [
    {
     "data": {
      "image/png": "[encoded data removed]",
      "text/plain": [
       "<Figure size 1800x1800 with 2 Axes>"
      ]
     },
     "metadata": {
      "needs_background": "light"
     },
     "output_type": "display_data"
    }
   ],
   "source": [
    "plt.figure(figsize=(25,25))\n",
    "df = pd.DataFrame(loan)\n",
    "\n",
    "corrMatrix = df.corr()\n",
    "sns.heatmap(corrMatrix, annot=True)\n",
    "plt.show()"
   ]
  },
  {
   "cell_type": "markdown",
   "id": "8e062999",
   "metadata": {},
   "source": [
    " 0bservations: From the Heatmap, the 'loan_amnt','funded_amnt' & 'funded_amnt_inv' are  closely interrelated. \n",
    "              So we can take any one column out of them for our analysis.\n",
    " dti and annual_inc are negatively correlated. "
   ]
  },
  {
   "cell_type": "code",
   "execution_count": 58,
   "id": "a4e64878",
   "metadata": {},
   "outputs": [
    {
     "data": {
      "image/png": "[encoded data removed]",
      "text/plain": [
       "<Figure size 432x288 with 2 Axes>"
      ]
     },
     "metadata": {
      "needs_background": "light"
     },
     "output_type": "display_data"
    }
   ],
   "source": [
    "df = pd.DataFrame(loan,columns=['funded_amnt','funded_amnt_inv','loan_amnt'])\n",
    "corrMatrix = df.corr()\n",
    "sns.heatmap(corrMatrix, annot=True)\n",
    "plt.show()"
   ]
  },
  {
   "cell_type": "markdown",
   "id": "de901483",
   "metadata": {},
   "source": [
    "Observations: From the Heatmap, the 'loan_amnt','funded_amnt' & 'funded_amnt_inv' are  closely interrelated. "
   ]
  },
  {
   "cell_type": "markdown",
   "id": "4c83ee74",
   "metadata": {},
   "source": [
    "With increase in income 'dti' is decreasing. Thus  higher loan amount can be sanctioned."
   ]
  },
  {
   "cell_type": "markdown",
   "id": "cc8c9088",
   "metadata": {},
   "source": [
    "#### Important variables for default are\n",
    "• Grade\n",
    "\n",
    "• interest rate\n",
    "\n",
    "• Term\n",
    "\n",
    "• Home Ownership\n",
    "\n",
    "• Year"
   ]
  }
 ],
 "metadata": {
  "kernelspec": {
   "display_name": "Python 3 (ipykernel)",
   "language": "python",
   "name": "python3"
  },
  "language_info": {
   "codemirror_mode": {
    "name": "ipython",
    "version": 3
   },
   "file_extension": ".py",
   "mimetype": "text/x-python",
   "name": "python",
   "nbconvert_exporter": "python",
   "pygments_lexer": "ipython3",
   "version": "3.9.12"
  }
 },
 "nbformat": 4,
 "nbformat_minor": 5
}
